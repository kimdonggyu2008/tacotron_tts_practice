{
  "nbformat": 4,
  "nbformat_minor": 0,
  "metadata": {
    "colab": {
      "provenance": [],
      "mount_file_id": "13gYaiJsp43yus7b83p93uHM5ExduVdcw",
      "authorship_tag": "ABX9TyO7X4eCASpq0PvVCK+PClLc",
      "include_colab_link": true
    },
    "kernelspec": {
      "name": "python3",
      "display_name": "Python 3"
    },
    "language_info": {
      "name": "python"
    },
    "widgets": {
      "application/vnd.jupyter.widget-state+json": {
        "cbd0bdea68804b8ca2c4dc4371861dd1": {
          "model_module": "@jupyter-widgets/controls",
          "model_name": "HBoxModel",
          "model_module_version": "1.5.0",
          "state": {
            "_dom_classes": [],
            "_model_module": "@jupyter-widgets/controls",
            "_model_module_version": "1.5.0",
            "_model_name": "HBoxModel",
            "_view_count": null,
            "_view_module": "@jupyter-widgets/controls",
            "_view_module_version": "1.5.0",
            "_view_name": "HBoxView",
            "box_style": "",
            "children": [
              "IPY_MODEL_59570d8cded844d8bf3273cbbaac9eeb",
              "IPY_MODEL_e82e89a89f85498eaa02881d1c2460ab",
              "IPY_MODEL_2199087c51ef44a0a6150626be8e2e1f"
            ],
            "layout": "IPY_MODEL_1bfde04fce474f33bc323f79abbc3c01"
          }
        },
        "59570d8cded844d8bf3273cbbaac9eeb": {
          "model_module": "@jupyter-widgets/controls",
          "model_name": "HTMLModel",
          "model_module_version": "1.5.0",
          "state": {
            "_dom_classes": [],
            "_model_module": "@jupyter-widgets/controls",
            "_model_module_version": "1.5.0",
            "_model_name": "HTMLModel",
            "_view_count": null,
            "_view_module": "@jupyter-widgets/controls",
            "_view_module_version": "1.5.0",
            "_view_name": "HTMLView",
            "description": "",
            "description_tooltip": null,
            "layout": "IPY_MODEL_2fa15564473742ab91eb4bcc95266532",
            "placeholder": "​",
            "style": "IPY_MODEL_56c8d5645c884686be6ddfab499d2fce",
            "value": "100%"
          }
        },
        "e82e89a89f85498eaa02881d1c2460ab": {
          "model_module": "@jupyter-widgets/controls",
          "model_name": "FloatProgressModel",
          "model_module_version": "1.5.0",
          "state": {
            "_dom_classes": [],
            "_model_module": "@jupyter-widgets/controls",
            "_model_module_version": "1.5.0",
            "_model_name": "FloatProgressModel",
            "_view_count": null,
            "_view_module": "@jupyter-widgets/controls",
            "_view_module_version": "1.5.0",
            "_view_name": "ProgressView",
            "bar_style": "success",
            "description": "",
            "description_tooltip": null,
            "layout": "IPY_MODEL_d0eb908c9ef041e194c806f39ae5dd80",
            "max": 41,
            "min": 0,
            "orientation": "horizontal",
            "style": "IPY_MODEL_d0ab1dc3aed3482696e23a12e3e2d1c8",
            "value": 41
          }
        },
        "2199087c51ef44a0a6150626be8e2e1f": {
          "model_module": "@jupyter-widgets/controls",
          "model_name": "HTMLModel",
          "model_module_version": "1.5.0",
          "state": {
            "_dom_classes": [],
            "_model_module": "@jupyter-widgets/controls",
            "_model_module_version": "1.5.0",
            "_model_name": "HTMLModel",
            "_view_count": null,
            "_view_module": "@jupyter-widgets/controls",
            "_view_module_version": "1.5.0",
            "_view_name": "HTMLView",
            "description": "",
            "description_tooltip": null,
            "layout": "IPY_MODEL_5a6590779a49475295b33c1bb595a18c",
            "placeholder": "​",
            "style": "IPY_MODEL_458df6292e0f4a88830d65a707c645ca",
            "value": " 41/41 [00:01&lt;00:00, 23.97it/s]"
          }
        },
        "1bfde04fce474f33bc323f79abbc3c01": {
          "model_module": "@jupyter-widgets/base",
          "model_name": "LayoutModel",
          "model_module_version": "1.2.0",
          "state": {
            "_model_module": "@jupyter-widgets/base",
            "_model_module_version": "1.2.0",
            "_model_name": "LayoutModel",
            "_view_count": null,
            "_view_module": "@jupyter-widgets/base",
            "_view_module_version": "1.2.0",
            "_view_name": "LayoutView",
            "align_content": null,
            "align_items": null,
            "align_self": null,
            "border": null,
            "bottom": null,
            "display": null,
            "flex": null,
            "flex_flow": null,
            "grid_area": null,
            "grid_auto_columns": null,
            "grid_auto_flow": null,
            "grid_auto_rows": null,
            "grid_column": null,
            "grid_gap": null,
            "grid_row": null,
            "grid_template_areas": null,
            "grid_template_columns": null,
            "grid_template_rows": null,
            "height": null,
            "justify_content": null,
            "justify_items": null,
            "left": null,
            "margin": null,
            "max_height": null,
            "max_width": null,
            "min_height": null,
            "min_width": null,
            "object_fit": null,
            "object_position": null,
            "order": null,
            "overflow": null,
            "overflow_x": null,
            "overflow_y": null,
            "padding": null,
            "right": null,
            "top": null,
            "visibility": null,
            "width": null
          }
        },
        "2fa15564473742ab91eb4bcc95266532": {
          "model_module": "@jupyter-widgets/base",
          "model_name": "LayoutModel",
          "model_module_version": "1.2.0",
          "state": {
            "_model_module": "@jupyter-widgets/base",
            "_model_module_version": "1.2.0",
            "_model_name": "LayoutModel",
            "_view_count": null,
            "_view_module": "@jupyter-widgets/base",
            "_view_module_version": "1.2.0",
            "_view_name": "LayoutView",
            "align_content": null,
            "align_items": null,
            "align_self": null,
            "border": null,
            "bottom": null,
            "display": null,
            "flex": null,
            "flex_flow": null,
            "grid_area": null,
            "grid_auto_columns": null,
            "grid_auto_flow": null,
            "grid_auto_rows": null,
            "grid_column": null,
            "grid_gap": null,
            "grid_row": null,
            "grid_template_areas": null,
            "grid_template_columns": null,
            "grid_template_rows": null,
            "height": null,
            "justify_content": null,
            "justify_items": null,
            "left": null,
            "margin": null,
            "max_height": null,
            "max_width": null,
            "min_height": null,
            "min_width": null,
            "object_fit": null,
            "object_position": null,
            "order": null,
            "overflow": null,
            "overflow_x": null,
            "overflow_y": null,
            "padding": null,
            "right": null,
            "top": null,
            "visibility": null,
            "width": null
          }
        },
        "56c8d5645c884686be6ddfab499d2fce": {
          "model_module": "@jupyter-widgets/controls",
          "model_name": "DescriptionStyleModel",
          "model_module_version": "1.5.0",
          "state": {
            "_model_module": "@jupyter-widgets/controls",
            "_model_module_version": "1.5.0",
            "_model_name": "DescriptionStyleModel",
            "_view_count": null,
            "_view_module": "@jupyter-widgets/base",
            "_view_module_version": "1.2.0",
            "_view_name": "StyleView",
            "description_width": ""
          }
        },
        "d0eb908c9ef041e194c806f39ae5dd80": {
          "model_module": "@jupyter-widgets/base",
          "model_name": "LayoutModel",
          "model_module_version": "1.2.0",
          "state": {
            "_model_module": "@jupyter-widgets/base",
            "_model_module_version": "1.2.0",
            "_model_name": "LayoutModel",
            "_view_count": null,
            "_view_module": "@jupyter-widgets/base",
            "_view_module_version": "1.2.0",
            "_view_name": "LayoutView",
            "align_content": null,
            "align_items": null,
            "align_self": null,
            "border": null,
            "bottom": null,
            "display": null,
            "flex": null,
            "flex_flow": null,
            "grid_area": null,
            "grid_auto_columns": null,
            "grid_auto_flow": null,
            "grid_auto_rows": null,
            "grid_column": null,
            "grid_gap": null,
            "grid_row": null,
            "grid_template_areas": null,
            "grid_template_columns": null,
            "grid_template_rows": null,
            "height": null,
            "justify_content": null,
            "justify_items": null,
            "left": null,
            "margin": null,
            "max_height": null,
            "max_width": null,
            "min_height": null,
            "min_width": null,
            "object_fit": null,
            "object_position": null,
            "order": null,
            "overflow": null,
            "overflow_x": null,
            "overflow_y": null,
            "padding": null,
            "right": null,
            "top": null,
            "visibility": null,
            "width": null
          }
        },
        "d0ab1dc3aed3482696e23a12e3e2d1c8": {
          "model_module": "@jupyter-widgets/controls",
          "model_name": "ProgressStyleModel",
          "model_module_version": "1.5.0",
          "state": {
            "_model_module": "@jupyter-widgets/controls",
            "_model_module_version": "1.5.0",
            "_model_name": "ProgressStyleModel",
            "_view_count": null,
            "_view_module": "@jupyter-widgets/base",
            "_view_module_version": "1.2.0",
            "_view_name": "StyleView",
            "bar_color": null,
            "description_width": ""
          }
        },
        "5a6590779a49475295b33c1bb595a18c": {
          "model_module": "@jupyter-widgets/base",
          "model_name": "LayoutModel",
          "model_module_version": "1.2.0",
          "state": {
            "_model_module": "@jupyter-widgets/base",
            "_model_module_version": "1.2.0",
            "_model_name": "LayoutModel",
            "_view_count": null,
            "_view_module": "@jupyter-widgets/base",
            "_view_module_version": "1.2.0",
            "_view_name": "LayoutView",
            "align_content": null,
            "align_items": null,
            "align_self": null,
            "border": null,
            "bottom": null,
            "display": null,
            "flex": null,
            "flex_flow": null,
            "grid_area": null,
            "grid_auto_columns": null,
            "grid_auto_flow": null,
            "grid_auto_rows": null,
            "grid_column": null,
            "grid_gap": null,
            "grid_row": null,
            "grid_template_areas": null,
            "grid_template_columns": null,
            "grid_template_rows": null,
            "height": null,
            "justify_content": null,
            "justify_items": null,
            "left": null,
            "margin": null,
            "max_height": null,
            "max_width": null,
            "min_height": null,
            "min_width": null,
            "object_fit": null,
            "object_position": null,
            "order": null,
            "overflow": null,
            "overflow_x": null,
            "overflow_y": null,
            "padding": null,
            "right": null,
            "top": null,
            "visibility": null,
            "width": null
          }
        },
        "458df6292e0f4a88830d65a707c645ca": {
          "model_module": "@jupyter-widgets/controls",
          "model_name": "DescriptionStyleModel",
          "model_module_version": "1.5.0",
          "state": {
            "_model_module": "@jupyter-widgets/controls",
            "_model_module_version": "1.5.0",
            "_model_name": "DescriptionStyleModel",
            "_view_count": null,
            "_view_module": "@jupyter-widgets/base",
            "_view_module_version": "1.2.0",
            "_view_name": "StyleView",
            "description_width": ""
          }
        }
      }
    }
  },
  "cells": [
    {
      "cell_type": "markdown",
      "metadata": {
        "id": "view-in-github",
        "colab_type": "text"
      },
      "source": [
        "<a href=\"https://colab.research.google.com/github/kimdonggyu2008/tacotron_tts_practice/blob/main/%EB%8D%B0%EC%9D%B4%ED%84%B0_%EA%B3%B5%EB%B0%B1_%EC%A0%84%EC%B2%98%EB%A6%AC.ipynb\" target=\"_parent\"><img src=\"https://colab.research.google.com/assets/colab-badge.svg\" alt=\"Open In Colab\"/></a>"
      ]
    },
    {
      "cell_type": "code",
      "execution_count": null,
      "metadata": {
        "id": "zyx2fYk-g8BX"
      },
      "outputs": [],
      "source": [
        "import numpy as np\n",
        "import os\n",
        "from tqdm.notebook import tqdm\n",
        "import librosa\n",
        "from pathlib import Path\n",
        "import matplotlib.pyplot as plt\n",
        "import IPython.display as ipd\n",
        "import glob\n",
        "import soundfile as sf"
      ]
    },
    {
      "cell_type": "code",
      "source": [
        "def load_audio(file_path, sr=22050):\n",
        "    \"\"\"\n",
        "       file_path : 파일위치\n",
        "       sr : 오디오를 읽을 때 Sampling rate 지정\n",
        "    \"\"\"\n",
        "    ## 확장자 추출\n",
        "    ext = Path(file_path).suffix\n",
        "\n",
        "    ## 파일 읽기\n",
        "    if ext in ['.wav', '.flac']:\n",
        "        wav, sr = librosa.load(file_path, sr=sr)\n",
        "    elif ext == '.pcm':\n",
        "        wav = np.memmap(file_path, dtype='h', mode='r').astype('float32') / 32767\n",
        "    elif ext in ['.raw', '.RAW']:\n",
        "        wav, sr = sf.read(file_path, channels=1, samlerate=sr, format='RAW', subtype='PCM_16')\n",
        "    else:\n",
        "        raise ValueError(\"Unsupported preprocess method : {0}\".format(ext))\n",
        "\n",
        "    return wav, sr\n",
        "\n"
      ],
      "metadata": {
        "id": "UMS2fUqZhJgI"
      },
      "execution_count": null,
      "outputs": []
    },
    {
      "cell_type": "code",
      "source": [
        "def trim_audio(wav,top_db=10,pad_len=4000):\n",
        "  non_silence_indices=librosa.effects.split(wav,top_db=top_db)\n",
        "  start=non_silence_indices[0][0]\n",
        "  end=non_silence_indices[-1][1]\n",
        "\n",
        "  wav=wav[start:end]\n",
        "  wav=np.hstack([np.zeros(pad_len),wav,np.zeros(pad_len)])\n",
        "\n",
        "  return wav\n"
      ],
      "metadata": {
        "id": "wH2FodB0h4JH"
      },
      "execution_count": null,
      "outputs": []
    },
    {
      "cell_type": "code",
      "source": [
        "def plot_wav(wav, sr):\n",
        "    ## 그려보기\n",
        "    plt.figure(1)\n",
        "\n",
        "    plot_a = plt.subplot(211)\n",
        "    plot_a.plot(wav)\n",
        "    plot_a.set_xlabel('sample rate * time')\n",
        "    plot_a.set_ylabel('energy')\n",
        "\n",
        "    plot_b = plt.subplot(212)\n",
        "    plot_b.specgram(wav, NFFT=1024, Fs=sr, noverlap=900)\n",
        "    plot_b.set_xlabel('Time')\n",
        "    plot_b.set_ylabel('Frequency')\n",
        "\n",
        "    plt.show()"
      ],
      "metadata": {
        "id": "pzeZP9J9iUt4"
      },
      "execution_count": null,
      "outputs": []
    },
    {
      "cell_type": "code",
      "source": [
        "## 시작하기\n",
        "\n",
        "## 타코트론2는 기본적으로 22050 sampling rate에서 동작\n",
        "sampling_rate = 22050\n",
        "## 개인설정에 따라 특정 소리보다 작은 음성을 삭제하도록 설정\n",
        "decibel=10\n",
        "\n",
        "## Wav 파일 읽어오기  pcm 또는 다른 확장자도 사용 가능.\n",
        "root_path = '/content/drive/MyDrive/코딩공부/Tacotron2-Wavenet-Korean-TTS-master/datasets/woman/audio'\n",
        "file_list = glob.glob(os.path.join(root_path, \"*.wav\"))\n",
        "#file_list = glob.glob(os.path.join(root_path, \"*.pcm\"))\n",
        "\n",
        "## 저장할 위치 선택\n",
        "save_path = '/content/drive/MyDrive/코딩공부/Tacotron2-Wavenet-Korean-TTS-master/datasets/woman/audio_edit'\n",
        "os.makedirs(save_path, exist_ok=True)\n",
        "\n",
        "for file_path in tqdm(file_list):\n",
        "\n",
        "    ## 파일 불러오기(타코트론2는 기본적으로 22050 sampling rate에서 동작)\n",
        "    wav, sr = load_audio(file_path, sr=sampling_rate)\n",
        "\n",
        "    ## 오디오 자르기(패딩 추가)\n",
        "    trimed_wav= trim_audio(wav, top_db=decibel)\n",
        "\n",
        "    filename=Path(file_path).name\n",
        "    temp_save_path = os.path.join(save_path, filename)\n",
        "\n",
        "    ## 저장하기\n",
        "    sf.write(temp_save_path, trimed_wav, sampling_rate)"
      ],
      "metadata": {
        "colab": {
          "base_uri": "https://localhost:8080/",
          "height": 49,
          "referenced_widgets": [
            "cbd0bdea68804b8ca2c4dc4371861dd1",
            "59570d8cded844d8bf3273cbbaac9eeb",
            "e82e89a89f85498eaa02881d1c2460ab",
            "2199087c51ef44a0a6150626be8e2e1f",
            "1bfde04fce474f33bc323f79abbc3c01",
            "2fa15564473742ab91eb4bcc95266532",
            "56c8d5645c884686be6ddfab499d2fce",
            "d0eb908c9ef041e194c806f39ae5dd80",
            "d0ab1dc3aed3482696e23a12e3e2d1c8",
            "5a6590779a49475295b33c1bb595a18c",
            "458df6292e0f4a88830d65a707c645ca"
          ]
        },
        "id": "_7nDt81piX5v",
        "outputId": "6cd92347-2c93-4491-9313-afaaf12b1612"
      },
      "execution_count": null,
      "outputs": [
        {
          "output_type": "display_data",
          "data": {
            "text/plain": [
              "  0%|          | 0/41 [00:00<?, ?it/s]"
            ],
            "application/vnd.jupyter.widget-view+json": {
              "version_major": 2,
              "version_minor": 0,
              "model_id": "cbd0bdea68804b8ca2c4dc4371861dd1"
            }
          },
          "metadata": {}
        }
      ]
    }
  ]
}