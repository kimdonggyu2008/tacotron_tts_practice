{
 "cells": [
  {
   "cell_type": "code",
   "execution_count": 1,
   "id": "e9c8d259",
   "metadata": {
    "_cell_guid": "b1076dfc-b9ad-4769-8c92-a6c4dae69d19",
    "_uuid": "8f2839f25d086af736a60e9eeb907d3b93b6e0e5",
    "execution": {
     "iopub.execute_input": "2024-07-20T05:25:02.040876Z",
     "iopub.status.busy": "2024-07-20T05:25:02.040582Z",
     "iopub.status.idle": "2024-07-20T05:25:07.693813Z",
     "shell.execute_reply": "2024-07-20T05:25:07.692726Z"
    },
    "papermill": {
     "duration": 5.661588,
     "end_time": "2024-07-20T05:25:07.696404",
     "exception": false,
     "start_time": "2024-07-20T05:25:02.034816",
     "status": "completed"
    },
    "tags": []
   },
   "outputs": [
    {
     "name": "stdout",
     "output_type": "stream",
     "text": [
      "Cloning into 'tacotron_tts_practice'...\r\n",
      "remote: Enumerating objects: 128, done.\u001b[K\r\n",
      "remote: Counting objects: 100% (128/128), done.\u001b[K\r\n",
      "remote: Compressing objects: 100% (126/126), done.\u001b[K\r\n",
      "remote: Total 128 (delta 4), reused 0 (delta 0), pack-reused 0\u001b[K\r\n",
      "Receiving objects: 100% (128/128), 20.47 MiB | 14.61 MiB/s, done.\r\n",
      "Resolving deltas: 100% (4/4), done.\r\n",
      "/kaggle/working/tacotron_tts_practice\n"
     ]
    }
   ],
   "source": [
    "!git clone https://github.com/kimdonggyu2008/tacotron_tts_practice\n",
    "%cd tacotron_tts_practice\n",
    "!git submodule init; git submodule update"
   ]
  },
  {
   "cell_type": "code",
   "execution_count": null,
   "id": "d4af4410",
   "metadata": {
    "papermill": {
     "duration": 0.008568,
     "end_time": "2024-07-20T05:25:07.714065",
     "exception": false,
     "start_time": "2024-07-20T05:25:07.705497",
     "status": "completed"
    },
    "tags": []
   },
   "outputs": [],
   "source": []
  },
  {
   "cell_type": "code",
   "execution_count": 2,
   "id": "26e278dc",
   "metadata": {
    "execution": {
     "iopub.execute_input": "2024-07-20T05:25:07.732814Z",
     "iopub.status.busy": "2024-07-20T05:25:07.732199Z",
     "iopub.status.idle": "2024-07-20T05:25:09.413401Z",
     "shell.execute_reply": "2024-07-20T05:25:09.412468Z"
    },
    "papermill": {
     "duration": 1.693611,
     "end_time": "2024-07-20T05:25:09.416103",
     "exception": false,
     "start_time": "2024-07-20T05:25:07.722492",
     "status": "completed"
    },
    "tags": []
   },
   "outputs": [],
   "source": [
    "import pandas as pd\n",
    "\n",
    "\n",
    "metadata = pd.read_csv(\"../../input/johnoliver/metadata.csv\")\n",
    "metadata = metadata[metadata['include']]\n",
    "\n",
    "total = len(metadata)\n",
    "split = 0.9\n",
    "train = int(total * split)\n",
    "\n",
    "train_metadata = metadata[:train]\n",
    "val_metadata = metadata[train:]\n",
    "\n",
    "with open('/kaggle/working/tacotron_tts_practice/filelists/audio_text_train_filelist.txt', 'w') as f:\n",
    "    for _, (index, _, _, _, text, _) in train_metadata.iterrows():\n",
    "        filepath = '../../input/johnoliver/wav/%05d.wav' % index\n",
    "        f.write(filepath + '|' + text + '\\n')\n",
    "\n",
    "with open('/kaggle/working/tacotron_tts_practice/filelists/audio_text_test_filelist.txt', 'w') as f:\n",
    "    for _, (index, _, _, _, text, _) in val_metadata.iterrows():\n",
    "        filepath = '../../input/johnoliver/wav/%05d.wav' % index\n",
    "        f.write(filepath + '|' + text + '\\n')"
   ]
  },
  {
   "cell_type": "code",
   "execution_count": 3,
   "id": "44c6d16d",
   "metadata": {
    "execution": {
     "iopub.execute_input": "2024-07-20T05:25:09.438350Z",
     "iopub.status.busy": "2024-07-20T05:25:09.437757Z",
     "iopub.status.idle": "2024-07-20T05:25:09.473346Z",
     "shell.execute_reply": "2024-07-20T05:25:09.472187Z"
    },
    "papermill": {
     "duration": 0.049372,
     "end_time": "2024-07-20T05:25:09.475811",
     "exception": false,
     "start_time": "2024-07-20T05:25:09.426439",
     "status": "completed"
    },
    "tags": []
   },
   "outputs": [],
   "source": [
    "df = pd.read_csv(\"/kaggle/working/tacotron_tts_practice/filelists/ljs_audio_text_train_filelist.txt\", sep=\"|\", names=[\"path\", \"text\"])"
   ]
  },
  {
   "cell_type": "code",
   "execution_count": 4,
   "id": "cba69413",
   "metadata": {
    "execution": {
     "iopub.execute_input": "2024-07-20T05:25:09.497598Z",
     "iopub.status.busy": "2024-07-20T05:25:09.496996Z",
     "iopub.status.idle": "2024-07-20T05:25:09.518424Z",
     "shell.execute_reply": "2024-07-20T05:25:09.517401Z"
    },
    "papermill": {
     "duration": 0.034794,
     "end_time": "2024-07-20T05:25:09.520609",
     "exception": false,
     "start_time": "2024-07-20T05:25:09.485815",
     "status": "completed"
    },
    "tags": []
   },
   "outputs": [],
   "source": [
    "with open(\"/kaggle/working/tacotron_tts_practice/filelists/ljs_audio_text_train_filelist.txt\", \"r\") as f:\n",
    "    lines = f.readlines()\n",
    "with open(\"/kaggle/working/tacotron_tts_practice/filelists/ljs_audio_text_train_filelist.txt\", \"w\") as f:\n",
    "    for line in lines:\n",
    "        line = line.replace('DUMMY', '/kaggle/input/the-lj-speech-dataset/LJSpeech-1.1/wavs')\n",
    "        f.write(line)"
   ]
  },
  {
   "cell_type": "code",
   "execution_count": 5,
   "id": "408656d7",
   "metadata": {
    "execution": {
     "iopub.execute_input": "2024-07-20T05:25:09.542364Z",
     "iopub.status.busy": "2024-07-20T05:25:09.541563Z",
     "iopub.status.idle": "2024-07-20T05:25:10.662198Z",
     "shell.execute_reply": "2024-07-20T05:25:10.660753Z"
    },
    "papermill": {
     "duration": 1.134564,
     "end_time": "2024-07-20T05:25:10.665069",
     "exception": false,
     "start_time": "2024-07-20T05:25:09.530505",
     "status": "completed"
    },
    "tags": []
   },
   "outputs": [],
   "source": [
    "!mv /kaggle/working/tacotron_tts_practice/filelists/ljs_audio_text_train_filelist.txt /kaggle/working/tacotron_tts_practice/filelists/audio_text_train_filelist.txt"
   ]
  },
  {
   "cell_type": "code",
   "execution_count": 6,
   "id": "b43d554f",
   "metadata": {
    "execution": {
     "iopub.execute_input": "2024-07-20T05:25:10.686583Z",
     "iopub.status.busy": "2024-07-20T05:25:10.685889Z",
     "iopub.status.idle": "2024-07-20T05:25:11.794284Z",
     "shell.execute_reply": "2024-07-20T05:25:11.792759Z"
    },
    "papermill": {
     "duration": 1.122173,
     "end_time": "2024-07-20T05:25:11.797143",
     "exception": false,
     "start_time": "2024-07-20T05:25:10.674970",
     "status": "completed"
    },
    "tags": []
   },
   "outputs": [],
   "source": [
    "!mv /kaggle/working/tacotron_tts_practice/filelists/ljs_audio_text_test_filelist.txt /kaggle/working/tacotron_tts_practice/filelists/audio_text_test_filelist.txt"
   ]
  },
  {
   "cell_type": "code",
   "execution_count": 7,
   "id": "954615dd",
   "metadata": {
    "execution": {
     "iopub.execute_input": "2024-07-20T05:25:11.818484Z",
     "iopub.status.busy": "2024-07-20T05:25:11.817834Z",
     "iopub.status.idle": "2024-07-20T05:25:12.925623Z",
     "shell.execute_reply": "2024-07-20T05:25:12.924290Z"
    },
    "papermill": {
     "duration": 1.120931,
     "end_time": "2024-07-20T05:25:12.928385",
     "exception": false,
     "start_time": "2024-07-20T05:25:11.807454",
     "status": "completed"
    },
    "tags": []
   },
   "outputs": [
    {
     "name": "stdout",
     "output_type": "stream",
     "text": [
      "ls: cannot access 'tacotron_tts_practice/filelists': No such file or directory\r\n"
     ]
    }
   ],
   "source": [
    "!ls tacotron_tts_practice/filelists"
   ]
  },
  {
   "cell_type": "code",
   "execution_count": 8,
   "id": "9ae9d3df",
   "metadata": {
    "execution": {
     "iopub.execute_input": "2024-07-20T05:25:12.951492Z",
     "iopub.status.busy": "2024-07-20T05:25:12.950604Z",
     "iopub.status.idle": "2024-07-20T05:26:57.868587Z",
     "shell.execute_reply": "2024-07-20T05:26:57.867443Z"
    },
    "papermill": {
     "duration": 104.932814,
     "end_time": "2024-07-20T05:26:57.871561",
     "exception": false,
     "start_time": "2024-07-20T05:25:12.938747",
     "status": "completed"
    },
    "tags": []
   },
   "outputs": [
    {
     "name": "stdout",
     "output_type": "stream",
     "text": [
      "Collecting tensorflow==2.17\r\n",
      "  Downloading tensorflow-2.17.0-cp310-cp310-manylinux_2_17_x86_64.manylinux2014_x86_64.whl.metadata (4.2 kB)\r\n",
      "Requirement already satisfied: absl-py>=1.0.0 in /opt/conda/lib/python3.10/site-packages (from tensorflow==2.17) (1.4.0)\r\n",
      "Requirement already satisfied: astunparse>=1.6.0 in /opt/conda/lib/python3.10/site-packages (from tensorflow==2.17) (1.6.3)\r\n",
      "Collecting flatbuffers>=24.3.25 (from tensorflow==2.17)\r\n",
      "  Downloading flatbuffers-24.3.25-py2.py3-none-any.whl.metadata (850 bytes)\r\n",
      "Requirement already satisfied: gast!=0.5.0,!=0.5.1,!=0.5.2,>=0.2.1 in /opt/conda/lib/python3.10/site-packages (from tensorflow==2.17) (0.5.4)\r\n",
      "Requirement already satisfied: google-pasta>=0.1.1 in /opt/conda/lib/python3.10/site-packages (from tensorflow==2.17) (0.2.0)\r\n",
      "Requirement already satisfied: h5py>=3.10.0 in /opt/conda/lib/python3.10/site-packages (from tensorflow==2.17) (3.10.0)\r\n",
      "Requirement already satisfied: libclang>=13.0.0 in /opt/conda/lib/python3.10/site-packages (from tensorflow==2.17) (16.0.6)\r\n",
      "Collecting ml-dtypes<0.5.0,>=0.3.1 (from tensorflow==2.17)\r\n",
      "  Downloading ml_dtypes-0.4.0-cp310-cp310-manylinux_2_17_x86_64.manylinux2014_x86_64.whl.metadata (20 kB)\r\n",
      "Requirement already satisfied: opt-einsum>=2.3.2 in /opt/conda/lib/python3.10/site-packages (from tensorflow==2.17) (3.3.0)\r\n",
      "Requirement already satisfied: packaging in /opt/conda/lib/python3.10/site-packages (from tensorflow==2.17) (21.3)\r\n",
      "Requirement already satisfied: protobuf!=4.21.0,!=4.21.1,!=4.21.2,!=4.21.3,!=4.21.4,!=4.21.5,<5.0.0dev,>=3.20.3 in /opt/conda/lib/python3.10/site-packages (from tensorflow==2.17) (3.20.3)\r\n",
      "Requirement already satisfied: requests<3,>=2.21.0 in /opt/conda/lib/python3.10/site-packages (from tensorflow==2.17) (2.32.3)\r\n",
      "Requirement already satisfied: setuptools in /opt/conda/lib/python3.10/site-packages (from tensorflow==2.17) (69.0.3)\r\n",
      "Requirement already satisfied: six>=1.12.0 in /opt/conda/lib/python3.10/site-packages (from tensorflow==2.17) (1.16.0)\r\n",
      "Requirement already satisfied: termcolor>=1.1.0 in /opt/conda/lib/python3.10/site-packages (from tensorflow==2.17) (2.4.0)\r\n",
      "Requirement already satisfied: typing-extensions>=3.6.6 in /opt/conda/lib/python3.10/site-packages (from tensorflow==2.17) (4.9.0)\r\n",
      "Requirement already satisfied: wrapt>=1.11.0 in /opt/conda/lib/python3.10/site-packages (from tensorflow==2.17) (1.14.1)\r\n",
      "Requirement already satisfied: grpcio<2.0,>=1.24.3 in /opt/conda/lib/python3.10/site-packages (from tensorflow==2.17) (1.60.0)\r\n",
      "Collecting tensorboard<2.18,>=2.17 (from tensorflow==2.17)\r\n",
      "  Downloading tensorboard-2.17.0-py3-none-any.whl.metadata (1.6 kB)\r\n",
      "Requirement already satisfied: keras>=3.2.0 in /opt/conda/lib/python3.10/site-packages (from tensorflow==2.17) (3.4.1)\r\n",
      "Requirement already satisfied: tensorflow-io-gcs-filesystem>=0.23.1 in /opt/conda/lib/python3.10/site-packages (from tensorflow==2.17) (0.35.0)\r\n",
      "Requirement already satisfied: numpy<2.0.0,>=1.23.5 in /opt/conda/lib/python3.10/site-packages (from tensorflow==2.17) (1.26.4)\r\n",
      "Requirement already satisfied: wheel<1.0,>=0.23.0 in /opt/conda/lib/python3.10/site-packages (from astunparse>=1.6.0->tensorflow==2.17) (0.42.0)\r\n",
      "Requirement already satisfied: rich in /opt/conda/lib/python3.10/site-packages (from keras>=3.2.0->tensorflow==2.17) (13.7.0)\r\n",
      "Requirement already satisfied: namex in /opt/conda/lib/python3.10/site-packages (from keras>=3.2.0->tensorflow==2.17) (0.0.8)\r\n",
      "Requirement already satisfied: optree in /opt/conda/lib/python3.10/site-packages (from keras>=3.2.0->tensorflow==2.17) (0.12.1)\r\n",
      "Requirement already satisfied: charset-normalizer<4,>=2 in /opt/conda/lib/python3.10/site-packages (from requests<3,>=2.21.0->tensorflow==2.17) (3.3.2)\r\n",
      "Requirement already satisfied: idna<4,>=2.5 in /opt/conda/lib/python3.10/site-packages (from requests<3,>=2.21.0->tensorflow==2.17) (3.6)\r\n",
      "Requirement already satisfied: urllib3<3,>=1.21.1 in /opt/conda/lib/python3.10/site-packages (from requests<3,>=2.21.0->tensorflow==2.17) (1.26.18)\r\n",
      "Requirement already satisfied: certifi>=2017.4.17 in /opt/conda/lib/python3.10/site-packages (from requests<3,>=2.21.0->tensorflow==2.17) (2024.7.4)\r\n",
      "Requirement already satisfied: markdown>=2.6.8 in /opt/conda/lib/python3.10/site-packages (from tensorboard<2.18,>=2.17->tensorflow==2.17) (3.5.2)\r\n",
      "Requirement already satisfied: tensorboard-data-server<0.8.0,>=0.7.0 in /opt/conda/lib/python3.10/site-packages (from tensorboard<2.18,>=2.17->tensorflow==2.17) (0.7.2)\r\n",
      "Requirement already satisfied: werkzeug>=1.0.1 in /opt/conda/lib/python3.10/site-packages (from tensorboard<2.18,>=2.17->tensorflow==2.17) (3.0.3)\r\n",
      "Requirement already satisfied: pyparsing!=3.0.5,>=2.0.2 in /opt/conda/lib/python3.10/site-packages (from packaging->tensorflow==2.17) (3.1.1)\r\n",
      "Requirement already satisfied: MarkupSafe>=2.1.1 in /opt/conda/lib/python3.10/site-packages (from werkzeug>=1.0.1->tensorboard<2.18,>=2.17->tensorflow==2.17) (2.1.3)\r\n",
      "Requirement already satisfied: markdown-it-py>=2.2.0 in /opt/conda/lib/python3.10/site-packages (from rich->keras>=3.2.0->tensorflow==2.17) (3.0.0)\r\n",
      "Requirement already satisfied: pygments<3.0.0,>=2.13.0 in /opt/conda/lib/python3.10/site-packages (from rich->keras>=3.2.0->tensorflow==2.17) (2.17.2)\r\n",
      "Requirement already satisfied: mdurl~=0.1 in /opt/conda/lib/python3.10/site-packages (from markdown-it-py>=2.2.0->rich->keras>=3.2.0->tensorflow==2.17) (0.1.2)\r\n",
      "Downloading tensorflow-2.17.0-cp310-cp310-manylinux_2_17_x86_64.manylinux2014_x86_64.whl (601.3 MB)\r\n",
      "\u001b[2K   \u001b[90m━━━━━━━━━━━━━━━━━━━━━━━━━━━━━━━━━━━━━━━━\u001b[0m \u001b[32m601.3/601.3 MB\u001b[0m \u001b[31m2.4 MB/s\u001b[0m eta \u001b[36m0:00:00\u001b[0m\r\n",
      "\u001b[?25hDownloading flatbuffers-24.3.25-py2.py3-none-any.whl (26 kB)\r\n",
      "Downloading ml_dtypes-0.4.0-cp310-cp310-manylinux_2_17_x86_64.manylinux2014_x86_64.whl (2.2 MB)\r\n",
      "\u001b[2K   \u001b[90m━━━━━━━━━━━━━━━━━━━━━━━━━━━━━━━━━━━━━━━━\u001b[0m \u001b[32m2.2/2.2 MB\u001b[0m \u001b[31m10.9 MB/s\u001b[0m eta \u001b[36m0:00:00\u001b[0m\r\n",
      "\u001b[?25hDownloading tensorboard-2.17.0-py3-none-any.whl (5.5 MB)\r\n",
      "\u001b[2K   \u001b[90m━━━━━━━━━━━━━━━━━━━━━━━━━━━━━━━━━━━━━━━━\u001b[0m \u001b[32m5.5/5.5 MB\u001b[0m \u001b[31m16.1 MB/s\u001b[0m eta \u001b[36m0:00:00\u001b[0m\r\n",
      "\u001b[?25hInstalling collected packages: flatbuffers, ml-dtypes, tensorboard, tensorflow\r\n",
      "  Attempting uninstall: flatbuffers\r\n",
      "    Found existing installation: flatbuffers 23.5.26\r\n",
      "    Uninstalling flatbuffers-23.5.26:\r\n",
      "      Successfully uninstalled flatbuffers-23.5.26\r\n",
      "  Attempting uninstall: ml-dtypes\r\n",
      "    Found existing installation: ml-dtypes 0.2.0\r\n",
      "    Uninstalling ml-dtypes-0.2.0:\r\n",
      "      Successfully uninstalled ml-dtypes-0.2.0\r\n",
      "  Attempting uninstall: tensorboard\r\n",
      "    Found existing installation: tensorboard 2.15.1\r\n",
      "    Uninstalling tensorboard-2.15.1:\r\n",
      "      Successfully uninstalled tensorboard-2.15.1\r\n",
      "  Attempting uninstall: tensorflow\r\n",
      "    Found existing installation: tensorflow 2.15.0\r\n",
      "    Uninstalling tensorflow-2.15.0:\r\n",
      "      Successfully uninstalled tensorflow-2.15.0\r\n",
      "\u001b[31mERROR: pip's dependency resolver does not currently take into account all the packages that are installed. This behaviour is the source of the following dependency conflicts.\r\n",
      "tensorflow-decision-forests 1.8.1 requires wurlitzer, which is not installed.\r\n",
      "tensorflow-decision-forests 1.8.1 requires tensorflow~=2.15.0, but you have tensorflow 2.17.0 which is incompatible.\r\n",
      "tensorflow-text 2.15.0 requires tensorflow<2.16,>=2.15.0; platform_machine != \"arm64\" or platform_system != \"Darwin\", but you have tensorflow 2.17.0 which is incompatible.\r\n",
      "tf-keras 2.15.1 requires tensorflow<2.16,>=2.15, but you have tensorflow 2.17.0 which is incompatible.\u001b[0m\u001b[31m\r\n",
      "\u001b[0mSuccessfully installed flatbuffers-24.3.25 ml-dtypes-0.4.0 tensorboard-2.17.0 tensorflow-2.17.0\r\n",
      "Collecting unidecode\r\n",
      "  Downloading Unidecode-1.3.8-py3-none-any.whl.metadata (13 kB)\r\n",
      "Downloading Unidecode-1.3.8-py3-none-any.whl (235 kB)\r\n",
      "\u001b[2K   \u001b[90m━━━━━━━━━━━━━━━━━━━━━━━━━━━━━━━━━━━━━━━━\u001b[0m \u001b[32m235.5/235.5 kB\u001b[0m \u001b[31m1.9 MB/s\u001b[0m eta \u001b[36m0:00:00\u001b[0m\r\n",
      "\u001b[?25hInstalling collected packages: unidecode\r\n",
      "Successfully installed unidecode-1.3.8\r\n",
      "Collecting inflect\r\n",
      "  Downloading inflect-7.3.1-py3-none-any.whl.metadata (21 kB)\r\n",
      "Requirement already satisfied: more-itertools>=8.5.0 in /opt/conda/lib/python3.10/site-packages (from inflect) (10.2.0)\r\n",
      "Requirement already satisfied: typeguard>=4.0.1 in /opt/conda/lib/python3.10/site-packages (from inflect) (4.1.5)\r\n",
      "Requirement already satisfied: typing-extensions>=4.7.0 in /opt/conda/lib/python3.10/site-packages (from typeguard>=4.0.1->inflect) (4.9.0)\r\n",
      "Downloading inflect-7.3.1-py3-none-any.whl (34 kB)\r\n",
      "Installing collected packages: inflect\r\n",
      "Successfully installed inflect-7.3.1\r\n"
     ]
    }
   ],
   "source": [
    "!pip install tensorflow==2.17\n",
    "!pip install unidecode\n",
    "!pip install inflect"
   ]
  },
  {
   "cell_type": "code",
   "execution_count": 9,
   "id": "1ff33cf7",
   "metadata": {
    "execution": {
     "iopub.execute_input": "2024-07-20T05:26:57.940942Z",
     "iopub.status.busy": "2024-07-20T05:26:57.940550Z",
     "iopub.status.idle": "2024-07-20T05:26:59.047134Z",
     "shell.execute_reply": "2024-07-20T05:26:59.045920Z"
    },
    "papermill": {
     "duration": 1.144704,
     "end_time": "2024-07-20T05:26:59.049921",
     "exception": false,
     "start_time": "2024-07-20T05:26:57.905217",
     "status": "completed"
    },
    "tags": []
   },
   "outputs": [
    {
     "name": "stdout",
     "output_type": "stream",
     "text": [
      "Python 3.10.13\r\n"
     ]
    }
   ],
   "source": [
    "!python --version"
   ]
  },
  {
   "cell_type": "code",
   "execution_count": 10,
   "id": "7d9b9393",
   "metadata": {
    "execution": {
     "iopub.execute_input": "2024-07-20T05:26:59.114037Z",
     "iopub.status.busy": "2024-07-20T05:26:59.113625Z",
     "iopub.status.idle": "2024-07-20T05:27:19.190398Z",
     "shell.execute_reply": "2024-07-20T05:27:19.189037Z"
    },
    "papermill": {
     "duration": 20.111019,
     "end_time": "2024-07-20T05:27:19.192718",
     "exception": false,
     "start_time": "2024-07-20T05:26:59.081699",
     "status": "completed"
    },
    "tags": []
   },
   "outputs": [
    {
     "name": "stdout",
     "output_type": "stream",
     "text": [
      "Collecting gdown\r\n",
      "  Downloading gdown-5.2.0-py3-none-any.whl.metadata (5.8 kB)\r\n",
      "Requirement already satisfied: beautifulsoup4 in /opt/conda/lib/python3.10/site-packages (from gdown) (4.12.2)\r\n",
      "Requirement already satisfied: filelock in /opt/conda/lib/python3.10/site-packages (from gdown) (3.13.1)\r\n",
      "Requirement already satisfied: requests[socks] in /opt/conda/lib/python3.10/site-packages (from gdown) (2.32.3)\r\n",
      "Requirement already satisfied: tqdm in /opt/conda/lib/python3.10/site-packages (from gdown) (4.66.4)\r\n",
      "Requirement already satisfied: soupsieve>1.2 in /opt/conda/lib/python3.10/site-packages (from beautifulsoup4->gdown) (2.5)\r\n",
      "Requirement already satisfied: charset-normalizer<4,>=2 in /opt/conda/lib/python3.10/site-packages (from requests[socks]->gdown) (3.3.2)\r\n",
      "Requirement already satisfied: idna<4,>=2.5 in /opt/conda/lib/python3.10/site-packages (from requests[socks]->gdown) (3.6)\r\n",
      "Requirement already satisfied: urllib3<3,>=1.21.1 in /opt/conda/lib/python3.10/site-packages (from requests[socks]->gdown) (1.26.18)\r\n",
      "Requirement already satisfied: certifi>=2017.4.17 in /opt/conda/lib/python3.10/site-packages (from requests[socks]->gdown) (2024.7.4)\r\n",
      "Requirement already satisfied: PySocks!=1.5.7,>=1.5.6 in /opt/conda/lib/python3.10/site-packages (from requests[socks]->gdown) (1.7.1)\r\n",
      "Downloading gdown-5.2.0-py3-none-any.whl (18 kB)\r\n",
      "Installing collected packages: gdown\r\n",
      "Successfully installed gdown-5.2.0\r\n",
      "Downloading...\r\n",
      "From (original): https://drive.google.com/uc?id=1c5ZTuT7J08wLUoVZ2KkUs_VdZuJ86ZqA\r\n",
      "From (redirected): https://drive.google.com/uc?id=1c5ZTuT7J08wLUoVZ2KkUs_VdZuJ86ZqA&confirm=t&uuid=bab49ba1-f234-433e-95bf-df29ef8c6ce6\r\n",
      "To: /kaggle/working/tacotron_tts_practice/tacotron2_statedict.pt\r\n",
      "100%|█████████████████████████████████████████| 113M/113M [00:00<00:00, 149MB/s]\r\n"
     ]
    }
   ],
   "source": [
    "!pip install gdown\n",
    "!gdown https://drive.google.com/uc?id=1c5ZTuT7J08wLUoVZ2KkUs_VdZuJ86ZqA"
   ]
  },
  {
   "cell_type": "code",
   "execution_count": 11,
   "id": "51f79fcb",
   "metadata": {
    "execution": {
     "iopub.execute_input": "2024-07-20T05:27:19.255976Z",
     "iopub.status.busy": "2024-07-20T05:27:19.255128Z",
     "iopub.status.idle": "2024-07-20T05:27:34.121500Z",
     "shell.execute_reply": "2024-07-20T05:27:34.120433Z"
    },
    "papermill": {
     "duration": 14.900976,
     "end_time": "2024-07-20T05:27:34.124302",
     "exception": false,
     "start_time": "2024-07-20T05:27:19.223326",
     "status": "completed"
    },
    "tags": []
   },
   "outputs": [
    {
     "name": "stdout",
     "output_type": "stream",
     "text": [
      "Get:1 https://packages.cloud.google.com/apt gcsfuse-focal InRelease [1225 B]\r\n",
      "Get:2 https://packages.cloud.google.com/apt cloud-sdk InRelease [1616 B]\r\n",
      "Hit:3 https://packages.cloud.google.com/apt google-fast-socket InRelease\r\n",
      "Get:4 https://developer.download.nvidia.com/compute/cuda/repos/ubuntu2004/x86_64  InRelease [1581 B]\r\n",
      "Hit:5 http://archive.ubuntu.com/ubuntu focal InRelease\r\n",
      "Get:6 http://security.ubuntu.com/ubuntu focal-security InRelease [128 kB]\r\n",
      "Get:7 https://packages.cloud.google.com/apt gcsfuse-focal/main amd64 Packages [24.8 kB]\r\n",
      "Get:8 http://archive.ubuntu.com/ubuntu focal-updates InRelease [128 kB]\r\n",
      "Get:9 https://packages.cloud.google.com/apt cloud-sdk/main amd64 Packages [3107 kB]\r\n",
      "Get:10 https://packages.cloud.google.com/apt cloud-sdk/main all Packages [1480 kB]\r\n",
      "Get:11 https://developer.download.nvidia.com/compute/cuda/repos/ubuntu2004/x86_64  Packages [1557 kB]\r\n",
      "Hit:12 http://archive.ubuntu.com/ubuntu focal-backports InRelease\r\n",
      "Get:13 http://security.ubuntu.com/ubuntu focal-security/universe amd64 Packages [1247 kB]\r\n",
      "Get:14 http://archive.ubuntu.com/ubuntu focal-updates/main amd64 Packages [4269 kB]\r\n",
      "Get:15 http://security.ubuntu.com/ubuntu focal-security/restricted amd64 Packages [3773 kB]\r\n",
      "Get:16 http://security.ubuntu.com/ubuntu focal-security/main amd64 Packages [3803 kB]\r\n",
      "Get:17 http://archive.ubuntu.com/ubuntu focal-updates/universe amd64 Packages [1533 kB]\r\n",
      "Get:18 http://archive.ubuntu.com/ubuntu focal-updates/restricted amd64 Packages [3924 kB]\r\n",
      "Fetched 25.0 MB in 3s (8859 kB/s)\r\n",
      "\r\n",
      "\r\n",
      "\r\n",
      "\r\n",
      "The following additional packages will be installed:\r\n",
      "  libmagic-mgc libmagic1 libopencore-amrnb0 libopencore-amrwb0 libsox-fmt-alsa\r\n",
      "  libsox-fmt-base libsox3\r\n",
      "Suggested packages:\r\n",
      "  file libsox-fmt-all\r\n",
      "The following NEW packages will be installed:\r\n",
      "  libmagic-mgc libmagic1 libopencore-amrnb0 libopencore-amrwb0 libsox-fmt-alsa\r\n",
      "  libsox-fmt-base libsox3 sox\r\n",
      "0 upgraded, 8 newly installed, 0 to remove and 88 not upgraded.\r\n",
      "Need to get 807 kB of archives.\r\n",
      "After this operation, 7653 kB of additional disk space will be used.\r\n",
      "Get:1 http://archive.ubuntu.com/ubuntu focal/main amd64 libmagic-mgc amd64 1:5.38-4 [218 kB]\r\n",
      "Get:2 http://archive.ubuntu.com/ubuntu focal/main amd64 libmagic1 amd64 1:5.38-4 [75.9 kB]\r\n",
      "Get:3 http://archive.ubuntu.com/ubuntu focal/universe amd64 libopencore-amrnb0 amd64 0.1.5-1 [94.8 kB]\r\n",
      "Get:4 http://archive.ubuntu.com/ubuntu focal/universe amd64 libopencore-amrwb0 amd64 0.1.5-1 [49.1 kB]\r\n",
      "Get:5 http://archive.ubuntu.com/ubuntu focal-updates/universe amd64 libsox3 amd64 14.4.2+git20190427-2+deb11u2ubuntu0.20.04.1 [225 kB]\r\n",
      "Get:6 http://archive.ubuntu.com/ubuntu focal-updates/universe amd64 libsox-fmt-alsa amd64 14.4.2+git20190427-2+deb11u2ubuntu0.20.04.1 [10.5 kB]\r\n",
      "Get:7 http://archive.ubuntu.com/ubuntu focal-updates/universe amd64 libsox-fmt-base amd64 14.4.2+git20190427-2+deb11u2ubuntu0.20.04.1 [31.4 kB]\r\n",
      "Get:8 http://archive.ubuntu.com/ubuntu focal-updates/universe amd64 sox amd64 14.4.2+git20190427-2+deb11u2ubuntu0.20.04.1 [102 kB]\r\n",
      "Fetched 807 kB in 0s (2632 kB/s)\r\n",
      "Selecting previously unselected package libmagic-mgc.\r\n",
      "(Reading database ... 113807 files and directories currently installed.)\r\n",
      "Preparing to unpack .../0-libmagic-mgc_1%3a5.38-4_amd64.deb ...\r\n",
      "Unpacking libmagic-mgc (1:5.38-4) ...\r\n",
      "Selecting previously unselected package libmagic1:amd64.\r\n",
      "Preparing to unpack .../1-libmagic1_1%3a5.38-4_amd64.deb ...\r\n",
      "Unpacking libmagic1:amd64 (1:5.38-4) ...\r\n",
      "Selecting previously unselected package libopencore-amrnb0:amd64.\r\n",
      "Preparing to unpack .../2-libopencore-amrnb0_0.1.5-1_amd64.deb ...\r\n",
      "Unpacking libopencore-amrnb0:amd64 (0.1.5-1) ...\r\n",
      "Selecting previously unselected package libopencore-amrwb0:amd64.\r\n",
      "Preparing to unpack .../3-libopencore-amrwb0_0.1.5-1_amd64.deb ...\r\n",
      "Unpacking libopencore-amrwb0:amd64 (0.1.5-1) ...\r\n",
      "Selecting previously unselected package libsox3:amd64.\r\n",
      "Preparing to unpack .../4-libsox3_14.4.2+git20190427-2+deb11u2ubuntu0.20.04.1_amd64.deb ...\r\n",
      "Unpacking libsox3:amd64 (14.4.2+git20190427-2+deb11u2ubuntu0.20.04.1) ...\r\n",
      "Selecting previously unselected package libsox-fmt-alsa:amd64.\r\n",
      "Preparing to unpack .../5-libsox-fmt-alsa_14.4.2+git20190427-2+deb11u2ubuntu0.20.04.1_amd64.deb ...\r\n",
      "Unpacking libsox-fmt-alsa:amd64 (14.4.2+git20190427-2+deb11u2ubuntu0.20.04.1) ...\r\n",
      "Selecting previously unselected package libsox-fmt-base:amd64.\r\n",
      "Preparing to unpack .../6-libsox-fmt-base_14.4.2+git20190427-2+deb11u2ubuntu0.20.04.1_amd64.deb ...\r\n",
      "Unpacking libsox-fmt-base:amd64 (14.4.2+git20190427-2+deb11u2ubuntu0.20.04.1) ...\r\n",
      "Selecting previously unselected package sox.\r\n",
      "Preparing to unpack .../7-sox_14.4.2+git20190427-2+deb11u2ubuntu0.20.04.1_amd64.deb ...\r\n",
      "Unpacking sox (14.4.2+git20190427-2+deb11u2ubuntu0.20.04.1) ...\r\n",
      "Setting up libmagic-mgc (1:5.38-4) ...\r\n",
      "Setting up libmagic1:amd64 (1:5.38-4) ...\r\n",
      "Setting up libopencore-amrwb0:amd64 (0.1.5-1) ...\r\n",
      "Setting up libopencore-amrnb0:amd64 (0.1.5-1) ...\r\n",
      "Setting up libsox3:amd64 (14.4.2+git20190427-2+deb11u2ubuntu0.20.04.1) ...\r\n",
      "Setting up libsox-fmt-alsa:amd64 (14.4.2+git20190427-2+deb11u2ubuntu0.20.04.1) ...\r\n",
      "Setting up libsox-fmt-base:amd64 (14.4.2+git20190427-2+deb11u2ubuntu0.20.04.1) ...\r\n",
      "Setting up sox (14.4.2+git20190427-2+deb11u2ubuntu0.20.04.1) ...\r\n",
      "Processing triggers for libc-bin (2.31-0ubuntu9.14) ...\r\n",
      "Processing triggers for man-db (2.9.1-1) ...\r\n",
      "Processing triggers for mime-support (3.64ubuntu1) ...\r\n",
      "\r\n",
      "Input File     : '/kaggle/input/the-lj-speech-dataset/LJSpeech-1.1/wavs/LJ001-0001.wav'\r\n",
      "Channels       : 1\r\n",
      "Sample Rate    : 22050\r\n",
      "Precision      : 16-bit\r\n",
      "Duration       : 00:00:09.66 = 212893 samples ~ 724.126 CDDA sectors\r\n",
      "File Size      : 426k\r\n",
      "Bit Rate       : 353k\r\n",
      "Sample Encoding: 16-bit Signed Integer PCM\r\n",
      "\r\n"
     ]
    }
   ],
   "source": [
    "!apt-get update --fix-missing\n",
    "!apt-get install sox -y\n",
    "!soxi /kaggle/input/the-lj-speech-dataset/LJSpeech-1.1/wavs/LJ001-0001.wav"
   ]
  },
  {
   "cell_type": "code",
   "execution_count": 12,
   "id": "6b3e3cb9",
   "metadata": {
    "execution": {
     "iopub.execute_input": "2024-07-20T05:27:34.213145Z",
     "iopub.status.busy": "2024-07-20T05:27:34.212743Z",
     "iopub.status.idle": "2024-07-20T05:28:06.294212Z",
     "shell.execute_reply": "2024-07-20T05:28:06.292983Z"
    },
    "papermill": {
     "duration": 32.129237,
     "end_time": "2024-07-20T05:28:06.296914",
     "exception": false,
     "start_time": "2024-07-20T05:27:34.167677",
     "status": "completed"
    },
    "tags": []
   },
   "outputs": [
    {
     "name": "stdout",
     "output_type": "stream",
     "text": [
      "/kaggle/working/tacotron_tts_practice/text/__init__.py:74: SyntaxWarning: \"is not\" with a literal. Did you mean \"!=\"?\r\n",
      "  return s in _symbol_to_id and s is not '_' and s is not '~'\r\n",
      "/kaggle/working/tacotron_tts_practice/text/__init__.py:74: SyntaxWarning: \"is not\" with a literal. Did you mean \"!=\"?\r\n",
      "  return s in _symbol_to_id and s is not '_' and s is not '~'\r\n",
      "2024-07-20 05:27:55.943921: E external/local_xla/xla/stream_executor/cuda/cuda_fft.cc:485] Unable to register cuFFT factory: Attempting to register factory for plugin cuFFT when one has already been registered\r\n",
      "2024-07-20 05:27:55.969214: E external/local_xla/xla/stream_executor/cuda/cuda_dnn.cc:8454] Unable to register cuDNN factory: Attempting to register factory for plugin cuDNN when one has already been registered\r\n",
      "2024-07-20 05:27:55.976756: E external/local_xla/xla/stream_executor/cuda/cuda_blas.cc:1452] Unable to register cuBLAS factory: Attempting to register factory for plugin cuBLAS when one has already been registered\r\n",
      "FP16 Run: False\r\n",
      "Dynamic Loss Scaling: True\r\n",
      "Distributed Run: False\r\n",
      "cuDNN Enabled: True\r\n",
      "cuDNN Benchmark: False\r\n",
      "Traceback (most recent call last):\r\n",
      "  File \"/kaggle/working/tacotron_tts_practice/train.py\", line 290, in <module>\r\n",
      "    train(args.output_directory, args.log_directory, args.checkpoint_path,\r\n",
      "  File \"/kaggle/working/tacotron_tts_practice/train.py\", line 187, in train\r\n",
      "    train_loader, valset, collate_fn = prepare_dataloaders(hparams)\r\n",
      "  File \"/kaggle/working/tacotron_tts_practice/train.py\", line 43, in prepare_dataloaders\r\n",
      "    trainset = TextMelLoader(hparams.training_files, hparams)\r\n",
      "  File \"/kaggle/working/tacotron_tts_practice/data_utils.py\", line 23, in __init__\r\n",
      "    self.stft = layers.TacotronSTFT(\r\n",
      "  File \"/kaggle/working/tacotron_tts_practice/layers.py\", line 49, in __init__\r\n",
      "    self.stft_fn = STFT(filter_length, hop_length, win_length)\r\n",
      "  File \"/kaggle/working/tacotron_tts_practice/stft.py\", line 67, in __init__\r\n",
      "    fft_window = pad_center(fft_window, filter_length)\r\n",
      "TypeError: pad_center() takes 1 positional argument but 2 were given\r\n",
      "\u001b[0m"
     ]
    }
   ],
   "source": [
    "!python train.py --output_directory=/kaggle/working/tacotron_tts_practice --log_directory=/kaggle/working/tacotron_tts_practice -c tacotron2_statedict.pt --warm_start "
   ]
  }
 ],
 "metadata": {
  "kaggle": {
   "accelerator": "nvidiaTeslaT4",
   "dataSources": [
    {
     "datasetId": 1159053,
     "sourceId": 1942970,
     "sourceType": "datasetVersion"
    },
    {
     "datasetId": 1227149,
     "sourceId": 2048443,
     "sourceType": "datasetVersion"
    }
   ],
   "dockerImageVersionId": 30747,
   "isGpuEnabled": true,
   "isInternetEnabled": true,
   "language": "python",
   "sourceType": "notebook"
  },
  "kernelspec": {
   "display_name": "Python 3",
   "language": "python",
   "name": "python3"
  },
  "language_info": {
   "codemirror_mode": {
    "name": "ipython",
    "version": 3
   },
   "file_extension": ".py",
   "mimetype": "text/x-python",
   "name": "python",
   "nbconvert_exporter": "python",
   "pygments_lexer": "ipython3",
   "version": "3.10.13"
  },
  "papermill": {
   "default_parameters": {},
   "duration": 187.377258,
   "end_time": "2024-07-20T05:28:06.757812",
   "environment_variables": {},
   "exception": null,
   "input_path": "__notebook__.ipynb",
   "output_path": "__notebook__.ipynb",
   "parameters": {},
   "start_time": "2024-07-20T05:24:59.380554",
   "version": "2.5.0"
  }
 },
 "nbformat": 4,
 "nbformat_minor": 5
}
