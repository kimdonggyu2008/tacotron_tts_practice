{
 "cells": [
  {
   "cell_type": "code",
   "execution_count": 1,
   "id": "2a9fb1e2",
   "metadata": {
    "_cell_guid": "b1076dfc-b9ad-4769-8c92-a6c4dae69d19",
    "_uuid": "8f2839f25d086af736a60e9eeb907d3b93b6e0e5",
    "execution": {
     "iopub.execute_input": "2024-07-20T07:44:54.372356Z",
     "iopub.status.busy": "2024-07-20T07:44:54.371999Z",
     "iopub.status.idle": "2024-07-20T07:45:00.536334Z",
     "shell.execute_reply": "2024-07-20T07:45:00.535166Z"
    },
    "papermill": {
     "duration": 6.173375,
     "end_time": "2024-07-20T07:45:00.538944",
     "exception": false,
     "start_time": "2024-07-20T07:44:54.365569",
     "status": "completed"
    },
    "tags": []
   },
   "outputs": [
    {
     "name": "stdout",
     "output_type": "stream",
     "text": [
      "Cloning into 'tacotron_tts_practice'...\r\n",
      "remote: Enumerating objects: 174, done.\u001b[K\r\n",
      "remote: Counting objects: 100% (174/174), done.\u001b[K\r\n",
      "remote: Compressing objects: 100% (172/172), done.\u001b[K\r\n",
      "remote: Total 174 (delta 34), reused 0 (delta 0), pack-reused 0\u001b[K\r\n",
      "Receiving objects: 100% (174/174), 20.49 MiB | 13.13 MiB/s, done.\r\n",
      "Resolving deltas: 100% (34/34), done.\r\n",
      "/kaggle/working/tacotron_tts_practice\n"
     ]
    }
   ],
   "source": [
    "!git clone https://github.com/kimdonggyu2008/tacotron_tts_practice\n",
    "%cd tacotron_tts_practice\n",
    "!git submodule init; git submodule update"
   ]
  },
  {
   "cell_type": "code",
   "execution_count": 2,
   "id": "7283f9fa",
   "metadata": {
    "execution": {
     "iopub.execute_input": "2024-07-20T07:45:00.559985Z",
     "iopub.status.busy": "2024-07-20T07:45:00.559671Z",
     "iopub.status.idle": "2024-07-20T07:45:02.314098Z",
     "shell.execute_reply": "2024-07-20T07:45:02.313195Z"
    },
    "papermill": {
     "duration": 1.767667,
     "end_time": "2024-07-20T07:45:02.316689",
     "exception": false,
     "start_time": "2024-07-20T07:45:00.549022",
     "status": "completed"
    },
    "tags": []
   },
   "outputs": [],
   "source": [
    "import pandas as pd\n",
    "\n",
    "\n",
    "metadata = pd.read_csv(\"../../input/johnoliver/metadata.csv\")\n",
    "metadata = metadata[metadata['include']]\n",
    "\n",
    "total = len(metadata)\n",
    "split = 0.9\n",
    "train = int(total * split)\n",
    "\n",
    "train_metadata = metadata[:train]\n",
    "val_metadata = metadata[train:]\n",
    "\n",
    "with open('/kaggle/working/tacotron_tts_practice/filelists/audio_text_train_filelist.txt', 'w') as f:\n",
    "    for _, (index, _, _, _, text, _) in train_metadata.iterrows():\n",
    "        filepath = '../../input/johnoliver/wav/%05d.wav' % index\n",
    "        f.write(filepath + '|' + text + '\\n')\n",
    "\n",
    "with open('/kaggle/working/tacotron_tts_practice/filelists/audio_text_test_filelist.txt', 'w') as f:\n",
    "    for _, (index, _, _, _, text, _) in val_metadata.iterrows():\n",
    "        filepath = '../../input/johnoliver/wav/%05d.wav' % index\n",
    "        f.write(filepath + '|' + text + '\\n')"
   ]
  },
  {
   "cell_type": "code",
   "execution_count": 3,
   "id": "bb433be0",
   "metadata": {
    "execution": {
     "iopub.execute_input": "2024-07-20T07:45:02.338187Z",
     "iopub.status.busy": "2024-07-20T07:45:02.337822Z",
     "iopub.status.idle": "2024-07-20T07:45:02.371188Z",
     "shell.execute_reply": "2024-07-20T07:45:02.370092Z"
    },
    "papermill": {
     "duration": 0.047028,
     "end_time": "2024-07-20T07:45:02.373655",
     "exception": false,
     "start_time": "2024-07-20T07:45:02.326627",
     "status": "completed"
    },
    "tags": []
   },
   "outputs": [],
   "source": [
    "df = pd.read_csv(\"/kaggle/working/tacotron_tts_practice/filelists/ljs_audio_text_train_filelist.txt\", sep=\"|\", names=[\"path\", \"text\"])"
   ]
  },
  {
   "cell_type": "code",
   "execution_count": 4,
   "id": "8caa9435",
   "metadata": {
    "execution": {
     "iopub.execute_input": "2024-07-20T07:45:02.395461Z",
     "iopub.status.busy": "2024-07-20T07:45:02.394676Z",
     "iopub.status.idle": "2024-07-20T07:45:02.414044Z",
     "shell.execute_reply": "2024-07-20T07:45:02.413227Z"
    },
    "papermill": {
     "duration": 0.0315,
     "end_time": "2024-07-20T07:45:02.416079",
     "exception": false,
     "start_time": "2024-07-20T07:45:02.384579",
     "status": "completed"
    },
    "tags": []
   },
   "outputs": [],
   "source": [
    "with open(\"/kaggle/working/tacotron_tts_practice/filelists/ljs_audio_text_train_filelist.txt\", \"r\") as f:\n",
    "    lines = f.readlines()\n",
    "with open(\"/kaggle/working/tacotron_tts_practice/filelists/ljs_audio_text_train_filelist.txt\", \"w\") as f:\n",
    "    for line in lines:\n",
    "        line = line.replace('DUMMY', '/kaggle/input/the-lj-speech-dataset/LJSpeech-1.1/wavs')\n",
    "        f.write(line)"
   ]
  },
  {
   "cell_type": "code",
   "execution_count": 5,
   "id": "f00f143b",
   "metadata": {
    "execution": {
     "iopub.execute_input": "2024-07-20T07:45:02.435440Z",
     "iopub.status.busy": "2024-07-20T07:45:02.435119Z",
     "iopub.status.idle": "2024-07-20T07:45:03.478473Z",
     "shell.execute_reply": "2024-07-20T07:45:03.477228Z"
    },
    "papermill": {
     "duration": 1.055968,
     "end_time": "2024-07-20T07:45:03.480971",
     "exception": false,
     "start_time": "2024-07-20T07:45:02.425003",
     "status": "completed"
    },
    "tags": []
   },
   "outputs": [],
   "source": [
    "!mv /kaggle/working/tacotron_tts_practice/filelists/ljs_audio_text_train_filelist.txt /kaggle/working/tacotron_tts_practice/filelists/audio_text_train_filelist.txt"
   ]
  },
  {
   "cell_type": "code",
   "execution_count": 6,
   "id": "c57246e6",
   "metadata": {
    "execution": {
     "iopub.execute_input": "2024-07-20T07:45:03.502047Z",
     "iopub.status.busy": "2024-07-20T07:45:03.501748Z",
     "iopub.status.idle": "2024-07-20T07:45:04.572337Z",
     "shell.execute_reply": "2024-07-20T07:45:04.571049Z"
    },
    "papermill": {
     "duration": 1.084138,
     "end_time": "2024-07-20T07:45:04.575046",
     "exception": false,
     "start_time": "2024-07-20T07:45:03.490908",
     "status": "completed"
    },
    "tags": []
   },
   "outputs": [],
   "source": [
    "!mv /kaggle/working/tacotron_tts_practice/filelists/ljs_audio_text_test_filelist.txt /kaggle/working/tacotron_tts_practice/filelists/audio_text_test_filelist.txt"
   ]
  },
  {
   "cell_type": "code",
   "execution_count": 7,
   "id": "9aa96459",
   "metadata": {
    "execution": {
     "iopub.execute_input": "2024-07-20T07:45:04.597155Z",
     "iopub.status.busy": "2024-07-20T07:45:04.596210Z",
     "iopub.status.idle": "2024-07-20T07:45:05.636247Z",
     "shell.execute_reply": "2024-07-20T07:45:05.635039Z"
    },
    "papermill": {
     "duration": 1.053794,
     "end_time": "2024-07-20T07:45:05.638790",
     "exception": false,
     "start_time": "2024-07-20T07:45:04.584996",
     "status": "completed"
    },
    "tags": []
   },
   "outputs": [
    {
     "name": "stdout",
     "output_type": "stream",
     "text": [
      "ls: cannot access 'tacotron_tts_practice/filelists': No such file or directory\r\n"
     ]
    }
   ],
   "source": [
    "!ls tacotron_tts_practice/filelists"
   ]
  },
  {
   "cell_type": "code",
   "execution_count": 8,
   "id": "5a752c9c",
   "metadata": {
    "execution": {
     "iopub.execute_input": "2024-07-20T07:45:05.659607Z",
     "iopub.status.busy": "2024-07-20T07:45:05.659236Z",
     "iopub.status.idle": "2024-07-20T07:47:01.614271Z",
     "shell.execute_reply": "2024-07-20T07:47:01.613025Z"
    },
    "papermill": {
     "duration": 115.968489,
     "end_time": "2024-07-20T07:47:01.616907",
     "exception": false,
     "start_time": "2024-07-20T07:45:05.648418",
     "status": "completed"
    },
    "tags": []
   },
   "outputs": [
    {
     "name": "stdout",
     "output_type": "stream",
     "text": [
      "Collecting tensorflow==2.17\r\n",
      "  Downloading tensorflow-2.17.0-cp310-cp310-manylinux_2_17_x86_64.manylinux2014_x86_64.whl.metadata (4.2 kB)\r\n",
      "Requirement already satisfied: absl-py>=1.0.0 in /opt/conda/lib/python3.10/site-packages (from tensorflow==2.17) (1.4.0)\r\n",
      "Requirement already satisfied: astunparse>=1.6.0 in /opt/conda/lib/python3.10/site-packages (from tensorflow==2.17) (1.6.3)\r\n",
      "Collecting flatbuffers>=24.3.25 (from tensorflow==2.17)\r\n",
      "  Downloading flatbuffers-24.3.25-py2.py3-none-any.whl.metadata (850 bytes)\r\n",
      "Requirement already satisfied: gast!=0.5.0,!=0.5.1,!=0.5.2,>=0.2.1 in /opt/conda/lib/python3.10/site-packages (from tensorflow==2.17) (0.5.4)\r\n",
      "Requirement already satisfied: google-pasta>=0.1.1 in /opt/conda/lib/python3.10/site-packages (from tensorflow==2.17) (0.2.0)\r\n",
      "Requirement already satisfied: h5py>=3.10.0 in /opt/conda/lib/python3.10/site-packages (from tensorflow==2.17) (3.10.0)\r\n",
      "Requirement already satisfied: libclang>=13.0.0 in /opt/conda/lib/python3.10/site-packages (from tensorflow==2.17) (16.0.6)\r\n",
      "Collecting ml-dtypes<0.5.0,>=0.3.1 (from tensorflow==2.17)\r\n",
      "  Downloading ml_dtypes-0.4.0-cp310-cp310-manylinux_2_17_x86_64.manylinux2014_x86_64.whl.metadata (20 kB)\r\n",
      "Requirement already satisfied: opt-einsum>=2.3.2 in /opt/conda/lib/python3.10/site-packages (from tensorflow==2.17) (3.3.0)\r\n",
      "Requirement already satisfied: packaging in /opt/conda/lib/python3.10/site-packages (from tensorflow==2.17) (21.3)\r\n",
      "Requirement already satisfied: protobuf!=4.21.0,!=4.21.1,!=4.21.2,!=4.21.3,!=4.21.4,!=4.21.5,<5.0.0dev,>=3.20.3 in /opt/conda/lib/python3.10/site-packages (from tensorflow==2.17) (3.20.3)\r\n",
      "Requirement already satisfied: requests<3,>=2.21.0 in /opt/conda/lib/python3.10/site-packages (from tensorflow==2.17) (2.32.3)\r\n",
      "Requirement already satisfied: setuptools in /opt/conda/lib/python3.10/site-packages (from tensorflow==2.17) (69.0.3)\r\n",
      "Requirement already satisfied: six>=1.12.0 in /opt/conda/lib/python3.10/site-packages (from tensorflow==2.17) (1.16.0)\r\n",
      "Requirement already satisfied: termcolor>=1.1.0 in /opt/conda/lib/python3.10/site-packages (from tensorflow==2.17) (2.4.0)\r\n",
      "Requirement already satisfied: typing-extensions>=3.6.6 in /opt/conda/lib/python3.10/site-packages (from tensorflow==2.17) (4.9.0)\r\n",
      "Requirement already satisfied: wrapt>=1.11.0 in /opt/conda/lib/python3.10/site-packages (from tensorflow==2.17) (1.14.1)\r\n",
      "Requirement already satisfied: grpcio<2.0,>=1.24.3 in /opt/conda/lib/python3.10/site-packages (from tensorflow==2.17) (1.60.0)\r\n",
      "Collecting tensorboard<2.18,>=2.17 (from tensorflow==2.17)\r\n",
      "  Downloading tensorboard-2.17.0-py3-none-any.whl.metadata (1.6 kB)\r\n",
      "Requirement already satisfied: keras>=3.2.0 in /opt/conda/lib/python3.10/site-packages (from tensorflow==2.17) (3.4.1)\r\n",
      "Requirement already satisfied: tensorflow-io-gcs-filesystem>=0.23.1 in /opt/conda/lib/python3.10/site-packages (from tensorflow==2.17) (0.35.0)\r\n",
      "Requirement already satisfied: numpy<2.0.0,>=1.23.5 in /opt/conda/lib/python3.10/site-packages (from tensorflow==2.17) (1.26.4)\r\n",
      "Requirement already satisfied: wheel<1.0,>=0.23.0 in /opt/conda/lib/python3.10/site-packages (from astunparse>=1.6.0->tensorflow==2.17) (0.42.0)\r\n",
      "Requirement already satisfied: rich in /opt/conda/lib/python3.10/site-packages (from keras>=3.2.0->tensorflow==2.17) (13.7.0)\r\n",
      "Requirement already satisfied: namex in /opt/conda/lib/python3.10/site-packages (from keras>=3.2.0->tensorflow==2.17) (0.0.8)\r\n",
      "Requirement already satisfied: optree in /opt/conda/lib/python3.10/site-packages (from keras>=3.2.0->tensorflow==2.17) (0.12.1)\r\n",
      "Requirement already satisfied: charset-normalizer<4,>=2 in /opt/conda/lib/python3.10/site-packages (from requests<3,>=2.21.0->tensorflow==2.17) (3.3.2)\r\n",
      "Requirement already satisfied: idna<4,>=2.5 in /opt/conda/lib/python3.10/site-packages (from requests<3,>=2.21.0->tensorflow==2.17) (3.6)\r\n",
      "Requirement already satisfied: urllib3<3,>=1.21.1 in /opt/conda/lib/python3.10/site-packages (from requests<3,>=2.21.0->tensorflow==2.17) (1.26.18)\r\n",
      "Requirement already satisfied: certifi>=2017.4.17 in /opt/conda/lib/python3.10/site-packages (from requests<3,>=2.21.0->tensorflow==2.17) (2024.7.4)\r\n",
      "Requirement already satisfied: markdown>=2.6.8 in /opt/conda/lib/python3.10/site-packages (from tensorboard<2.18,>=2.17->tensorflow==2.17) (3.5.2)\r\n",
      "Requirement already satisfied: tensorboard-data-server<0.8.0,>=0.7.0 in /opt/conda/lib/python3.10/site-packages (from tensorboard<2.18,>=2.17->tensorflow==2.17) (0.7.2)\r\n",
      "Requirement already satisfied: werkzeug>=1.0.1 in /opt/conda/lib/python3.10/site-packages (from tensorboard<2.18,>=2.17->tensorflow==2.17) (3.0.3)\r\n",
      "Requirement already satisfied: pyparsing!=3.0.5,>=2.0.2 in /opt/conda/lib/python3.10/site-packages (from packaging->tensorflow==2.17) (3.1.1)\r\n",
      "Requirement already satisfied: MarkupSafe>=2.1.1 in /opt/conda/lib/python3.10/site-packages (from werkzeug>=1.0.1->tensorboard<2.18,>=2.17->tensorflow==2.17) (2.1.3)\r\n",
      "Requirement already satisfied: markdown-it-py>=2.2.0 in /opt/conda/lib/python3.10/site-packages (from rich->keras>=3.2.0->tensorflow==2.17) (3.0.0)\r\n",
      "Requirement already satisfied: pygments<3.0.0,>=2.13.0 in /opt/conda/lib/python3.10/site-packages (from rich->keras>=3.2.0->tensorflow==2.17) (2.17.2)\r\n",
      "Requirement already satisfied: mdurl~=0.1 in /opt/conda/lib/python3.10/site-packages (from markdown-it-py>=2.2.0->rich->keras>=3.2.0->tensorflow==2.17) (0.1.2)\r\n",
      "Downloading tensorflow-2.17.0-cp310-cp310-manylinux_2_17_x86_64.manylinux2014_x86_64.whl (601.3 MB)\r\n",
      "\u001b[2K   \u001b[90m━━━━━━━━━━━━━━━━━━━━━━━━━━━━━━━━━━━━━━━━\u001b[0m \u001b[32m601.3/601.3 MB\u001b[0m \u001b[31m1.2 MB/s\u001b[0m eta \u001b[36m0:00:00\u001b[0m\r\n",
      "\u001b[?25hDownloading flatbuffers-24.3.25-py2.py3-none-any.whl (26 kB)\r\n",
      "Downloading ml_dtypes-0.4.0-cp310-cp310-manylinux_2_17_x86_64.manylinux2014_x86_64.whl (2.2 MB)\r\n",
      "\u001b[2K   \u001b[90m━━━━━━━━━━━━━━━━━━━━━━━━━━━━━━━━━━━━━━━━\u001b[0m \u001b[32m2.2/2.2 MB\u001b[0m \u001b[31m35.2 MB/s\u001b[0m eta \u001b[36m0:00:00\u001b[0m\r\n",
      "\u001b[?25hDownloading tensorboard-2.17.0-py3-none-any.whl (5.5 MB)\r\n",
      "\u001b[2K   \u001b[90m━━━━━━━━━━━━━━━━━━━━━━━━━━━━━━━━━━━━━━━━\u001b[0m \u001b[32m5.5/5.5 MB\u001b[0m \u001b[31m49.0 MB/s\u001b[0m eta \u001b[36m0:00:00\u001b[0m\r\n",
      "\u001b[?25hInstalling collected packages: flatbuffers, ml-dtypes, tensorboard, tensorflow\r\n",
      "  Attempting uninstall: flatbuffers\r\n",
      "    Found existing installation: flatbuffers 23.5.26\r\n",
      "    Uninstalling flatbuffers-23.5.26:\r\n",
      "      Successfully uninstalled flatbuffers-23.5.26\r\n",
      "  Attempting uninstall: ml-dtypes\r\n",
      "    Found existing installation: ml-dtypes 0.2.0\r\n",
      "    Uninstalling ml-dtypes-0.2.0:\r\n",
      "      Successfully uninstalled ml-dtypes-0.2.0\r\n",
      "  Attempting uninstall: tensorboard\r\n",
      "    Found existing installation: tensorboard 2.15.1\r\n",
      "    Uninstalling tensorboard-2.15.1:\r\n",
      "      Successfully uninstalled tensorboard-2.15.1\r\n",
      "  Attempting uninstall: tensorflow\r\n",
      "    Found existing installation: tensorflow 2.15.0\r\n",
      "    Uninstalling tensorflow-2.15.0:\r\n",
      "      Successfully uninstalled tensorflow-2.15.0\r\n",
      "\u001b[31mERROR: pip's dependency resolver does not currently take into account all the packages that are installed. This behaviour is the source of the following dependency conflicts.\r\n",
      "tensorflow-decision-forests 1.8.1 requires wurlitzer, which is not installed.\r\n",
      "tensorflow-decision-forests 1.8.1 requires tensorflow~=2.15.0, but you have tensorflow 2.17.0 which is incompatible.\r\n",
      "tensorflow-text 2.15.0 requires tensorflow<2.16,>=2.15.0; platform_machine != \"arm64\" or platform_system != \"Darwin\", but you have tensorflow 2.17.0 which is incompatible.\r\n",
      "tf-keras 2.15.1 requires tensorflow<2.16,>=2.15, but you have tensorflow 2.17.0 which is incompatible.\u001b[0m\u001b[31m\r\n",
      "\u001b[0mSuccessfully installed flatbuffers-24.3.25 ml-dtypes-0.4.0 tensorboard-2.17.0 tensorflow-2.17.0\r\n",
      "Collecting unidecode\r\n",
      "  Downloading Unidecode-1.3.8-py3-none-any.whl.metadata (13 kB)\r\n",
      "Downloading Unidecode-1.3.8-py3-none-any.whl (235 kB)\r\n",
      "\u001b[2K   \u001b[90m━━━━━━━━━━━━━━━━━━━━━━━━━━━━━━━━━━━━━━━━\u001b[0m \u001b[32m235.5/235.5 kB\u001b[0m \u001b[31m1.8 MB/s\u001b[0m eta \u001b[36m0:00:00\u001b[0m\r\n",
      "\u001b[?25hInstalling collected packages: unidecode\r\n",
      "Successfully installed unidecode-1.3.8\r\n",
      "Collecting inflect\r\n",
      "  Downloading inflect-7.3.1-py3-none-any.whl.metadata (21 kB)\r\n",
      "Requirement already satisfied: more-itertools>=8.5.0 in /opt/conda/lib/python3.10/site-packages (from inflect) (10.2.0)\r\n",
      "Requirement already satisfied: typeguard>=4.0.1 in /opt/conda/lib/python3.10/site-packages (from inflect) (4.1.5)\r\n",
      "Requirement already satisfied: typing-extensions>=4.7.0 in /opt/conda/lib/python3.10/site-packages (from typeguard>=4.0.1->inflect) (4.9.0)\r\n",
      "Downloading inflect-7.3.1-py3-none-any.whl (34 kB)\r\n",
      "Installing collected packages: inflect\r\n",
      "Successfully installed inflect-7.3.1\r\n"
     ]
    }
   ],
   "source": [
    "!pip install tensorflow==2.17\n",
    "!pip install unidecode\n",
    "!pip install inflect"
   ]
  },
  {
   "cell_type": "code",
   "execution_count": 9,
   "id": "8990f553",
   "metadata": {
    "execution": {
     "iopub.execute_input": "2024-07-20T07:47:01.709167Z",
     "iopub.status.busy": "2024-07-20T07:47:01.708827Z",
     "iopub.status.idle": "2024-07-20T07:47:02.772102Z",
     "shell.execute_reply": "2024-07-20T07:47:02.770904Z"
    },
    "papermill": {
     "duration": 1.112505,
     "end_time": "2024-07-20T07:47:02.774716",
     "exception": false,
     "start_time": "2024-07-20T07:47:01.662211",
     "status": "completed"
    },
    "tags": []
   },
   "outputs": [
    {
     "name": "stdout",
     "output_type": "stream",
     "text": [
      "Python 3.10.13\r\n"
     ]
    }
   ],
   "source": [
    "!python --version"
   ]
  },
  {
   "cell_type": "code",
   "execution_count": 10,
   "id": "08f3a586",
   "metadata": {
    "execution": {
     "iopub.execute_input": "2024-07-20T07:47:02.872898Z",
     "iopub.status.busy": "2024-07-20T07:47:02.872156Z",
     "iopub.status.idle": "2024-07-20T07:47:23.148918Z",
     "shell.execute_reply": "2024-07-20T07:47:23.147747Z"
    },
    "papermill": {
     "duration": 20.32808,
     "end_time": "2024-07-20T07:47:23.151362",
     "exception": false,
     "start_time": "2024-07-20T07:47:02.823282",
     "status": "completed"
    },
    "tags": []
   },
   "outputs": [
    {
     "name": "stdout",
     "output_type": "stream",
     "text": [
      "Collecting gdown\r\n",
      "  Downloading gdown-5.2.0-py3-none-any.whl.metadata (5.8 kB)\r\n",
      "Requirement already satisfied: beautifulsoup4 in /opt/conda/lib/python3.10/site-packages (from gdown) (4.12.2)\r\n",
      "Requirement already satisfied: filelock in /opt/conda/lib/python3.10/site-packages (from gdown) (3.13.1)\r\n",
      "Requirement already satisfied: requests[socks] in /opt/conda/lib/python3.10/site-packages (from gdown) (2.32.3)\r\n",
      "Requirement already satisfied: tqdm in /opt/conda/lib/python3.10/site-packages (from gdown) (4.66.4)\r\n",
      "Requirement already satisfied: soupsieve>1.2 in /opt/conda/lib/python3.10/site-packages (from beautifulsoup4->gdown) (2.5)\r\n",
      "Requirement already satisfied: charset-normalizer<4,>=2 in /opt/conda/lib/python3.10/site-packages (from requests[socks]->gdown) (3.3.2)\r\n",
      "Requirement already satisfied: idna<4,>=2.5 in /opt/conda/lib/python3.10/site-packages (from requests[socks]->gdown) (3.6)\r\n",
      "Requirement already satisfied: urllib3<3,>=1.21.1 in /opt/conda/lib/python3.10/site-packages (from requests[socks]->gdown) (1.26.18)\r\n",
      "Requirement already satisfied: certifi>=2017.4.17 in /opt/conda/lib/python3.10/site-packages (from requests[socks]->gdown) (2024.7.4)\r\n",
      "Requirement already satisfied: PySocks!=1.5.7,>=1.5.6 in /opt/conda/lib/python3.10/site-packages (from requests[socks]->gdown) (1.7.1)\r\n",
      "Downloading gdown-5.2.0-py3-none-any.whl (18 kB)\r\n",
      "Installing collected packages: gdown\r\n",
      "Successfully installed gdown-5.2.0\r\n",
      "Downloading...\r\n",
      "From (original): https://drive.google.com/uc?id=1c5ZTuT7J08wLUoVZ2KkUs_VdZuJ86ZqA\r\n",
      "From (redirected): https://drive.google.com/uc?id=1c5ZTuT7J08wLUoVZ2KkUs_VdZuJ86ZqA&confirm=t&uuid=d1c3e4fc-b4db-472a-b139-59832eb9b11b\r\n",
      "To: /kaggle/working/tacotron_tts_practice/tacotron2_statedict.pt\r\n",
      "100%|█████████████████████████████████████████| 113M/113M [00:01<00:00, 102MB/s]\r\n"
     ]
    }
   ],
   "source": [
    "!pip install gdown\n",
    "!gdown https://drive.google.com/uc?id=1c5ZTuT7J08wLUoVZ2KkUs_VdZuJ86ZqA"
   ]
  },
  {
   "cell_type": "code",
   "execution_count": 11,
   "id": "c97ebfb2",
   "metadata": {
    "execution": {
     "iopub.execute_input": "2024-07-20T07:47:23.245063Z",
     "iopub.status.busy": "2024-07-20T07:47:23.244712Z",
     "iopub.status.idle": "2024-07-20T07:47:39.253072Z",
     "shell.execute_reply": "2024-07-20T07:47:39.251785Z"
    },
    "papermill": {
     "duration": 16.05841,
     "end_time": "2024-07-20T07:47:39.255567",
     "exception": false,
     "start_time": "2024-07-20T07:47:23.197157",
     "status": "completed"
    },
    "tags": []
   },
   "outputs": [
    {
     "name": "stdout",
     "output_type": "stream",
     "text": [
      "Get:1 https://packages.cloud.google.com/apt gcsfuse-focal InRelease [1225 B]\r\n",
      "Hit:2 http://archive.ubuntu.com/ubuntu focal InRelease\r\n",
      "Get:3 https://packages.cloud.google.com/apt cloud-sdk InRelease [1616 B]\r\n",
      "Get:4 https://developer.download.nvidia.com/compute/cuda/repos/ubuntu2004/x86_64  InRelease [1581 B]\r\n",
      "Hit:5 https://packages.cloud.google.com/apt google-fast-socket InRelease\r\n",
      "Get:6 http://archive.ubuntu.com/ubuntu focal-updates InRelease [128 kB]\r\n",
      "Get:7 http://security.ubuntu.com/ubuntu focal-security InRelease [128 kB]\r\n",
      "Hit:8 http://archive.ubuntu.com/ubuntu focal-backports InRelease\r\n",
      "Get:9 https://packages.cloud.google.com/apt gcsfuse-focal/main amd64 Packages [24.8 kB]\r\n",
      "Get:10 https://packages.cloud.google.com/apt cloud-sdk/main all Packages [1480 kB]\r\n",
      "Get:11 https://packages.cloud.google.com/apt cloud-sdk/main amd64 Packages [3107 kB]\r\n",
      "Get:12 https://developer.download.nvidia.com/compute/cuda/repos/ubuntu2004/x86_64  Packages [1557 kB]\r\n",
      "Get:13 http://archive.ubuntu.com/ubuntu focal-updates/universe amd64 Packages [1533 kB]\r\n",
      "Get:14 http://archive.ubuntu.com/ubuntu focal-updates/main amd64 Packages [4269 kB]\r\n",
      "Get:15 http://archive.ubuntu.com/ubuntu focal-updates/restricted amd64 Packages [3924 kB]\r\n",
      "Get:16 http://security.ubuntu.com/ubuntu focal-security/restricted amd64 Packages [3773 kB]\r\n",
      "Get:17 http://security.ubuntu.com/ubuntu focal-security/main amd64 Packages [3803 kB]\r\n",
      "Get:18 http://security.ubuntu.com/ubuntu focal-security/universe amd64 Packages [1247 kB]\r\n",
      "Fetched 25.0 MB in 3s (9883 kB/s)\r\n",
      "\r\n",
      "\r\n",
      "\r\n",
      "\r\n",
      "The following additional packages will be installed:\r\n",
      "  libmagic-mgc libmagic1 libopencore-amrnb0 libopencore-amrwb0 libsox-fmt-alsa\r\n",
      "  libsox-fmt-base libsox3\r\n",
      "Suggested packages:\r\n",
      "  file libsox-fmt-all\r\n",
      "The following NEW packages will be installed:\r\n",
      "  libmagic-mgc libmagic1 libopencore-amrnb0 libopencore-amrwb0 libsox-fmt-alsa\r\n",
      "  libsox-fmt-base libsox3 sox\r\n",
      "0 upgraded, 8 newly installed, 0 to remove and 88 not upgraded.\r\n",
      "Need to get 807 kB of archives.\r\n",
      "After this operation, 7653 kB of additional disk space will be used.\r\n",
      "Get:1 http://archive.ubuntu.com/ubuntu focal/main amd64 libmagic-mgc amd64 1:5.38-4 [218 kB]\r\n",
      "Get:2 http://archive.ubuntu.com/ubuntu focal/main amd64 libmagic1 amd64 1:5.38-4 [75.9 kB]\r\n",
      "Get:3 http://archive.ubuntu.com/ubuntu focal/universe amd64 libopencore-amrnb0 amd64 0.1.5-1 [94.8 kB]\r\n",
      "Get:4 http://archive.ubuntu.com/ubuntu focal/universe amd64 libopencore-amrwb0 amd64 0.1.5-1 [49.1 kB]\r\n",
      "Get:5 http://archive.ubuntu.com/ubuntu focal-updates/universe amd64 libsox3 amd64 14.4.2+git20190427-2+deb11u2ubuntu0.20.04.1 [225 kB]\r\n",
      "Get:6 http://archive.ubuntu.com/ubuntu focal-updates/universe amd64 libsox-fmt-alsa amd64 14.4.2+git20190427-2+deb11u2ubuntu0.20.04.1 [10.5 kB]\r\n",
      "Get:7 http://archive.ubuntu.com/ubuntu focal-updates/universe amd64 libsox-fmt-base amd64 14.4.2+git20190427-2+deb11u2ubuntu0.20.04.1 [31.4 kB]\r\n",
      "Get:8 http://archive.ubuntu.com/ubuntu focal-updates/universe amd64 sox amd64 14.4.2+git20190427-2+deb11u2ubuntu0.20.04.1 [102 kB]\r\n",
      "Fetched 807 kB in 1s (755 kB/s)\r\n",
      "Selecting previously unselected package libmagic-mgc.\r\n",
      "(Reading database ... 113807 files and directories currently installed.)\r\n",
      "Preparing to unpack .../0-libmagic-mgc_1%3a5.38-4_amd64.deb ...\r\n",
      "Unpacking libmagic-mgc (1:5.38-4) ...\r\n",
      "Selecting previously unselected package libmagic1:amd64.\r\n",
      "Preparing to unpack .../1-libmagic1_1%3a5.38-4_amd64.deb ...\r\n",
      "Unpacking libmagic1:amd64 (1:5.38-4) ...\r\n",
      "Selecting previously unselected package libopencore-amrnb0:amd64.\r\n",
      "Preparing to unpack .../2-libopencore-amrnb0_0.1.5-1_amd64.deb ...\r\n",
      "Unpacking libopencore-amrnb0:amd64 (0.1.5-1) ...\r\n",
      "Selecting previously unselected package libopencore-amrwb0:amd64.\r\n",
      "Preparing to unpack .../3-libopencore-amrwb0_0.1.5-1_amd64.deb ...\r\n",
      "Unpacking libopencore-amrwb0:amd64 (0.1.5-1) ...\r\n",
      "Selecting previously unselected package libsox3:amd64.\r\n",
      "Preparing to unpack .../4-libsox3_14.4.2+git20190427-2+deb11u2ubuntu0.20.04.1_amd64.deb ...\r\n",
      "Unpacking libsox3:amd64 (14.4.2+git20190427-2+deb11u2ubuntu0.20.04.1) ...\r\n",
      "Selecting previously unselected package libsox-fmt-alsa:amd64.\r\n",
      "Preparing to unpack .../5-libsox-fmt-alsa_14.4.2+git20190427-2+deb11u2ubuntu0.20.04.1_amd64.deb ...\r\n",
      "Unpacking libsox-fmt-alsa:amd64 (14.4.2+git20190427-2+deb11u2ubuntu0.20.04.1) ...\r\n",
      "Selecting previously unselected package libsox-fmt-base:amd64.\r\n",
      "Preparing to unpack .../6-libsox-fmt-base_14.4.2+git20190427-2+deb11u2ubuntu0.20.04.1_amd64.deb ...\r\n",
      "Unpacking libsox-fmt-base:amd64 (14.4.2+git20190427-2+deb11u2ubuntu0.20.04.1) ...\r\n",
      "Selecting previously unselected package sox.\r\n",
      "Preparing to unpack .../7-sox_14.4.2+git20190427-2+deb11u2ubuntu0.20.04.1_amd64.deb ...\r\n",
      "Unpacking sox (14.4.2+git20190427-2+deb11u2ubuntu0.20.04.1) ...\r\n",
      "Setting up libmagic-mgc (1:5.38-4) ...\r\n",
      "Setting up libmagic1:amd64 (1:5.38-4) ...\r\n",
      "Setting up libopencore-amrwb0:amd64 (0.1.5-1) ...\r\n",
      "Setting up libopencore-amrnb0:amd64 (0.1.5-1) ...\r\n",
      "Setting up libsox3:amd64 (14.4.2+git20190427-2+deb11u2ubuntu0.20.04.1) ...\r\n",
      "Setting up libsox-fmt-alsa:amd64 (14.4.2+git20190427-2+deb11u2ubuntu0.20.04.1) ...\r\n",
      "Setting up libsox-fmt-base:amd64 (14.4.2+git20190427-2+deb11u2ubuntu0.20.04.1) ...\r\n",
      "Setting up sox (14.4.2+git20190427-2+deb11u2ubuntu0.20.04.1) ...\r\n",
      "Processing triggers for libc-bin (2.31-0ubuntu9.14) ...\r\n",
      "Processing triggers for man-db (2.9.1-1) ...\r\n",
      "Processing triggers for mime-support (3.64ubuntu1) ...\r\n",
      "\r\n",
      "Input File     : '/kaggle/input/the-lj-speech-dataset/LJSpeech-1.1/wavs/LJ001-0001.wav'\r\n",
      "Channels       : 1\r\n",
      "Sample Rate    : 22050\r\n",
      "Precision      : 16-bit\r\n",
      "Duration       : 00:00:09.66 = 212893 samples ~ 724.126 CDDA sectors\r\n",
      "File Size      : 426k\r\n",
      "Bit Rate       : 353k\r\n",
      "Sample Encoding: 16-bit Signed Integer PCM\r\n",
      "\r\n"
     ]
    }
   ],
   "source": [
    "!apt-get update --fix-missing\n",
    "!apt-get install sox -y\n",
    "!soxi /kaggle/input/the-lj-speech-dataset/LJSpeech-1.1/wavs/LJ001-0001.wav"
   ]
  },
  {
   "cell_type": "code",
   "execution_count": 12,
   "id": "4e3638f2",
   "metadata": {
    "execution": {
     "iopub.execute_input": "2024-07-20T07:47:39.366142Z",
     "iopub.status.busy": "2024-07-20T07:47:39.365785Z",
     "iopub.status.idle": "2024-07-20T07:47:39.370687Z",
     "shell.execute_reply": "2024-07-20T07:47:39.369715Z"
    },
    "papermill": {
     "duration": 0.064492,
     "end_time": "2024-07-20T07:47:39.372819",
     "exception": false,
     "start_time": "2024-07-20T07:47:39.308327",
     "status": "completed"
    },
    "tags": []
   },
   "outputs": [],
   "source": [
    "#!python train.py --output_directory=/kaggle/working/tacotron_tts_practice --log_directory=/kaggle/working/tacotron_tts_practice -c tacotron2_statedict.pt --warm_start "
   ]
  },
  {
   "cell_type": "code",
   "execution_count": 13,
   "id": "957a0873",
   "metadata": {
    "execution": {
     "iopub.execute_input": "2024-07-20T07:47:39.481791Z",
     "iopub.status.busy": "2024-07-20T07:47:39.481081Z",
     "iopub.status.idle": "2024-07-20T07:48:21.353407Z",
     "shell.execute_reply": "2024-07-20T07:48:21.352373Z"
    },
    "papermill": {
     "duration": 41.929999,
     "end_time": "2024-07-20T07:48:21.355873",
     "exception": false,
     "start_time": "2024-07-20T07:47:39.425874",
     "status": "completed"
    },
    "tags": []
   },
   "outputs": [
    {
     "name": "stdout",
     "output_type": "stream",
     "text": [
      "2024-07-20 07:48:01.818343: E external/local_xla/xla/stream_executor/cuda/cuda_fft.cc:485] Unable to register cuFFT factory: Attempting to register factory for plugin cuFFT when one has already been registered\r\n",
      "2024-07-20 07:48:01.842765: E external/local_xla/xla/stream_executor/cuda/cuda_dnn.cc:8454] Unable to register cuDNN factory: Attempting to register factory for plugin cuDNN when one has already been registered\r\n",
      "2024-07-20 07:48:01.850032: E external/local_xla/xla/stream_executor/cuda/cuda_blas.cc:1452] Unable to register cuBLAS factory: Attempting to register factory for plugin cuBLAS when one has already been registered\r\n",
      "FP16 Run: False\r\n",
      "Dynamic Loss Scaling: True\r\n",
      "Distributed Run: False\r\n",
      "cuDNN Enabled: True\r\n",
      "cuDNN Benchmark: False\r\n",
      "Warm starting model from checkpoint 'tacotron2_statedict.pt'\r\n",
      "Epoch: 0\r\n",
      "/opt/conda/lib/python3.10/multiprocessing/popen_fork.py:66: RuntimeWarning: os.fork() was called. os.fork() is incompatible with multithreaded code, and JAX is multithreaded, so this will likely lead to a deadlock.\r\n",
      "  self.pid = os.fork()\r\n",
      "/kaggle/working/tacotron_tts_practice/utils.py:8: UserWarning: The torch.cuda.*DtypeTensor constructors are no longer recommended. It's best to use methods such as torch.tensor(data, dtype=*, device='cuda') to create tensors. (Triggered internally at /usr/local/src/pytorch/torch/csrc/tensor/python_tensor.cpp:83.)\r\n",
      "  ids = torch.arange(0, max_len, out=torch.cuda.LongTensor(max_len))\r\n",
      "FileNotFoundError: [Errno 2] No such file or directory: 'DUMMY/LJ016-0020.wav'\r\n",
      "FileNotFoundError: [Errno 2] No such file or directory: 'DUMMY/LJ040-0002.wav'\r\n",
      "FileNotFoundError: [Errno 2] No such file or directory: 'DUMMY/LJ029-0032.wav'\r\n",
      "FileNotFoundError: [Errno 2] No such file or directory: 'DUMMY/LJ018-0239.wav'\r\n",
      "FileNotFoundError: [Errno 2] No such file or directory: 'DUMMY/LJ027-0141.wav'\r\n",
      "FileNotFoundError: [Errno 2] No such file or directory: 'DUMMY/LJ011-0096.wav'\r\n",
      "FileNotFoundError: [Errno 2] No such file or directory: 'DUMMY/LJ019-0257.wav'\r\n",
      "FileNotFoundError: [Errno 2] No such file or directory: 'DUMMY/LJ029-0022.wav'\r\n",
      "FileNotFoundError: [Errno 2] No such file or directory: 'DUMMY/LJ018-0098.wav'\r\n",
      "FileNotFoundError: [Errno 2] No such file or directory: 'DUMMY/LJ008-0294.wav'\r\n",
      "FileNotFoundError: [Errno 2] No such file or directory: 'DUMMY/LJ012-0250.wav'\r\n",
      "FileNotFoundError: [Errno 2] No such file or directory: 'DUMMY/LJ047-0044.wav'\r\n",
      "FileNotFoundError: [Errno 2] No such file or directory: 'DUMMY/LJ016-0179.wav'\r\n",
      "FileNotFoundError: [Errno 2] No such file or directory: 'DUMMY/LJ034-0198.wav'\r\n",
      "FileNotFoundError: [Errno 2] No such file or directory: 'DUMMY/LJ016-0318.wav'\r\n",
      "FileNotFoundError: [Errno 2] No such file or directory: 'DUMMY/LJ012-0161.wav'\r\n",
      "FileNotFoundError: [Errno 2] No such file or directory: 'DUMMY/LJ021-0145.wav'\r\n",
      "FileNotFoundError: [Errno 2] No such file or directory: 'DUMMY/LJ045-0230.wav'\r\n",
      "FileNotFoundError: [Errno 2] No such file or directory: 'DUMMY/LJ028-0008.wav'\r\n",
      "FileNotFoundError: [Errno 2] No such file or directory: 'DUMMY/LJ046-0146.wav'\r\n",
      "FileNotFoundError: [Errno 2] No such file or directory: 'DUMMY/LJ028-0275.wav'\r\n",
      "FileNotFoundError: [Errno 2] No such file or directory: 'DUMMY/LJ017-0131.wav'\r\n",
      "FileNotFoundError: [Errno 2] No such file or directory: 'DUMMY/LJ040-0027.wav'\r\n",
      "FileNotFoundError: [Errno 2] No such file or directory: 'DUMMY/LJ015-0203.wav'\r\n",
      "FileNotFoundError: [Errno 2] No such file or directory: 'DUMMY/LJ012-0235.wav'\r\n",
      "FileNotFoundError: [Errno 2] No such file or directory: 'DUMMY/LJ009-0238.wav'\r\n",
      "FileNotFoundError: [Errno 2] No such file or directory: 'DUMMY/LJ050-0168.wav'\r\n",
      "FileNotFoundError: [Errno 2] No such file or directory: 'DUMMY/LJ014-0263.wav'\r\n",
      "FileNotFoundError: [Errno 2] No such file or directory: 'DUMMY/LJ049-0050.wav'\r\n",
      "FileNotFoundError: [Errno 2] No such file or directory: 'DUMMY/LJ036-0174.wav'\r\n",
      "FileNotFoundError: [Errno 2] No such file or directory: 'DUMMY/LJ012-0042.wav'\r\n",
      "FileNotFoundError: [Errno 2] No such file or directory: 'DUMMY/LJ028-0093.wav'\r\n",
      "FileNotFoundError: [Errno 2] No such file or directory: 'DUMMY/LJ002-0018.wav'\r\n",
      "FileNotFoundError: [Errno 2] No such file or directory: 'DUMMY/LJ043-0002.wav'\r\n",
      "FileNotFoundError: [Errno 2] No such file or directory: 'DUMMY/LJ046-0184.wav'\r\n",
      "FileNotFoundError: [Errno 2] No such file or directory: 'DUMMY/LJ042-0096.wav'\r\n",
      "FileNotFoundError: [Errno 2] No such file or directory: 'DUMMY/LJ014-0020.wav'\r\n",
      "FileNotFoundError: [Errno 2] No such file or directory: 'DUMMY/LJ038-0199.wav'\r\n",
      "FileNotFoundError: [Errno 2] No such file or directory: 'DUMMY/LJ014-0010.wav'\r\n",
      "FileNotFoundError: [Errno 2] No such file or directory: 'DUMMY/LJ034-0160.wav'\r\n",
      "FileNotFoundError: [Errno 2] No such file or directory: 'DUMMY/LJ005-0014.wav'\r\n",
      "FileNotFoundError: [Errno 2] No such file or directory: 'DUMMY/LJ031-0202.wav'\r\n",
      "FileNotFoundError: [Errno 2] No such file or directory: 'DUMMY/LJ048-0194.wav'\r\n",
      "FileNotFoundError: [Errno 2] No such file or directory: 'DUMMY/LJ026-0068.wav'\r\n",
      "FileNotFoundError: [Errno 2] No such file or directory: 'DUMMY/LJ003-0111.wav'\r\n",
      "FileNotFoundError: [Errno 2] No such file or directory: 'DUMMY/LJ028-0081.wav'\r\n",
      "FileNotFoundError: [Errno 2] No such file or directory: 'DUMMY/LJ046-0058.wav'\r\n",
      "FileNotFoundError: [Errno 2] No such file or directory: 'DUMMY/LJ035-0129.wav'\r\n",
      "FileNotFoundError: [Errno 2] No such file or directory: 'DUMMY/LJ028-0307.wav'\r\n",
      "FileNotFoundError: [Errno 2] No such file or directory: 'DUMMY/LJ014-0076.wav'\r\n",
      "FileNotFoundError: [Errno 2] No such file or directory: 'DUMMY/LJ024-0083.wav'\r\n",
      "FileNotFoundError: [Errno 2] No such file or directory: 'DUMMY/LJ014-0110.wav'\r\n",
      "FileNotFoundError: [Errno 2] No such file or directory: 'DUMMY/LJ017-0044.wav'\r\n",
      "FileNotFoundError: [Errno 2] No such file or directory: 'DUMMY/LJ028-0506.wav'\r\n",
      "FileNotFoundError: [Errno 2] No such file or directory: 'DUMMY/LJ039-0223.wav'\r\n",
      "FileNotFoundError: [Errno 2] No such file or directory: 'DUMMY/LJ039-0075.wav'\r\n",
      "FileNotFoundError: [Errno 2] No such file or directory: 'DUMMY/LJ013-0164.wav'\r\n",
      "FileNotFoundError: [Errno 2] No such file or directory: 'DUMMY/LJ031-0134.wav'\r\n",
      "FileNotFoundError: [Errno 2] No such file or directory: 'DUMMY/LJ008-0111.wav'\r\n",
      "FileNotFoundError: [Errno 2] No such file or directory: 'DUMMY/LJ019-0186.wav'\r\n",
      "FileNotFoundError: [Errno 2] No such file or directory: 'DUMMY/LJ033-0047.wav'\r\n",
      "FileNotFoundError: [Errno 2] No such file or directory: 'DUMMY/LJ009-0076.wav'\r\n",
      "FileNotFoundError: [Errno 2] No such file or directory: 'DUMMY/LJ036-0077.wav'\r\n",
      "FileNotFoundError: [Errno 2] No such file or directory: 'DUMMY/LJ002-0043.wav'\r\n",
      "FileNotFoundError: [Errno 2] No such file or directory: 'DUMMY/LJ007-0154.wav'\r\n",
      "FileNotFoundError: [Errno 2] No such file or directory: 'DUMMY/LJ035-0019.wav'\r\n",
      "FileNotFoundError: [Errno 2] No such file or directory: 'DUMMY/LJ047-0148.wav'\r\n",
      "FileNotFoundError: [Errno 2] No such file or directory: 'DUMMY/LJ017-0070.wav'\r\n",
      "FileNotFoundError: [Errno 2] No such file or directory: 'DUMMY/LJ045-0140.wav'\r\n",
      "FileNotFoundError: [Errno 2] No such file or directory: 'DUMMY/LJ031-0038.wav'\r\n",
      "FileNotFoundError: [Errno 2] No such file or directory: 'DUMMY/LJ036-0103.wav'\r\n",
      "FileNotFoundError: [Errno 2] No such file or directory: 'DUMMY/LJ021-0066.wav'\r\n",
      "FileNotFoundError: [Errno 2] No such file or directory: 'DUMMY/LJ005-0079.wav'\r\n",
      "FileNotFoundError: [Errno 2] No such file or directory: 'DUMMY/LJ043-0030.wav'\r\n",
      "FileNotFoundError: [Errno 2] No such file or directory: 'DUMMY/LJ008-0258.wav'\r\n",
      "FileNotFoundError: [Errno 2] No such file or directory: 'DUMMY/LJ004-0096.wav'\r\n",
      "FileNotFoundError: [Errno 2] No such file or directory: 'DUMMY/LJ048-0228.wav'\r\n",
      "FileNotFoundError: [Errno 2] No such file or directory: 'DUMMY/LJ031-0070.wav'\r\n",
      "FileNotFoundError: [Errno 2] No such file or directory: 'DUMMY/LJ016-0288.wav'\r\n",
      "FileNotFoundError: [Errno 2] No such file or directory: 'DUMMY/LJ034-0042.wav'\r\n",
      "FileNotFoundError: [Errno 2] No such file or directory: 'DUMMY/LJ018-0081.wav'\r\n",
      "FileNotFoundError: [Errno 2] No such file or directory: 'DUMMY/LJ037-0234.wav'\r\n",
      "FileNotFoundError: [Errno 2] No such file or directory: 'DUMMY/LJ012-0035.wav'\r\n",
      "FileNotFoundError: [Errno 2] No such file or directory: 'DUMMY/LJ034-0053.wav'\r\n",
      "FileNotFoundError: [Errno 2] No such file or directory: 'DUMMY/LJ027-0052.wav'\r\n",
      "FileNotFoundError: [Errno 2] No such file or directory: 'DUMMY/LJ001-0110.wav'\r\n",
      "FileNotFoundError: [Errno 2] No such file or directory: 'DUMMY/LJ005-0201.wav'\r\n",
      "FileNotFoundError: [Errno 2] No such file or directory: 'DUMMY/LJ042-0129.wav'\r\n",
      "FileNotFoundError: [Errno 2] No such file or directory: 'DUMMY/LJ014-0030.wav'\r\n",
      "FileNotFoundError: [Errno 2] No such file or directory: 'DUMMY/LJ008-0278.wav'\r\n",
      "FileNotFoundError: [Errno 2] No such file or directory: 'DUMMY/LJ049-0026.wav'\r\n",
      "FileNotFoundError: [Errno 2] No such file or directory: 'DUMMY/LJ019-0273.wav'\r\n",
      "FileNotFoundError: [Errno 2] No such file or directory: 'DUMMY/LJ016-0138.wav'\r\n",
      "FileNotFoundError: [Errno 2] No such file or directory: 'DUMMY/LJ003-0345.wav'\r\n",
      "FileNotFoundError: [Errno 2] No such file or directory: 'DUMMY/LJ008-0307.wav'\r\n",
      "FileNotFoundError: [Errno 2] No such file or directory: 'DUMMY/LJ004-0152.wav'\r\n",
      "Traceback (most recent call last):\r\n",
      "  File \"/kaggle/working/tacotron_tts_practice/train.py\", line 290, in <module>\r\n",
      "    train(args.output_directory, args.log_directory, args.checkpoint_path,\r\n",
      "  File \"/kaggle/working/tacotron_tts_practice/train.py\", line 247, in train\r\n",
      "    validate(model, criterion, valset, iteration,\r\n",
      "  File \"/kaggle/working/tacotron_tts_practice/train.py\", line 133, in validate\r\n",
      "    for i, batch in enumerate(val_loader):\r\n",
      "  File \"/opt/conda/lib/python3.10/site-packages/torch/utils/data/dataloader.py\", line 630, in __next__\r\n",
      "    data = self._next_data()\r\n",
      "  File \"/opt/conda/lib/python3.10/site-packages/torch/utils/data/dataloader.py\", line 1345, in _next_data\r\n",
      "    return self._process_data(data)\r\n",
      "  File \"/opt/conda/lib/python3.10/site-packages/torch/utils/data/dataloader.py\", line 1371, in _process_data\r\n",
      "    data.reraise()\r\n",
      "  File \"/opt/conda/lib/python3.10/site-packages/torch/_utils.py\", line 694, in reraise\r\n",
      "    raise exception\r\n",
      "TypeError: Caught TypeError in DataLoader worker process 0.\r\n",
      "Original Traceback (most recent call last):\r\n",
      "  File \"/opt/conda/lib/python3.10/site-packages/torch/utils/data/_utils/worker.py\", line 308, in _worker_loop\r\n",
      "    data = fetcher.fetch(index)\r\n",
      "  File \"/opt/conda/lib/python3.10/site-packages/torch/utils/data/_utils/fetch.py\", line 54, in fetch\r\n",
      "    return self.collate_fn(data)\r\n",
      "  File \"/kaggle/working/tacotron_tts_practice/data_utils.py\", line 90, in __call__\r\n",
      "    torch.LongTensor([len(x[0]) for x in batch]),\r\n",
      "  File \"/kaggle/working/tacotron_tts_practice/data_utils.py\", line 90, in <listcomp>\r\n",
      "    torch.LongTensor([len(x[0]) for x in batch]),\r\n",
      "TypeError: 'NoneType' object is not subscriptable\r\n",
      "\r\n",
      "\u001b[0m"
     ]
    }
   ],
   "source": [
    "!python train.py --output_directory=outdir --log_directory=logdir -c tacotron2_statedict.pt --warm_start --n_gpus=4 --rank=1 --group_name='group_name' --hparams sampling_rate=22050:iters_per_checkpoint=100"
   ]
  }
 ],
 "metadata": {
  "kaggle": {
   "accelerator": "nvidiaTeslaT4",
   "dataSources": [
    {
     "datasetId": 1159053,
     "sourceId": 1942970,
     "sourceType": "datasetVersion"
    },
    {
     "datasetId": 1227149,
     "sourceId": 2048443,
     "sourceType": "datasetVersion"
    }
   ],
   "dockerImageVersionId": 30747,
   "isGpuEnabled": true,
   "isInternetEnabled": true,
   "language": "python",
   "sourceType": "notebook"
  },
  "kernelspec": {
   "display_name": "Python 3",
   "language": "python",
   "name": "python3"
  },
  "language_info": {
   "codemirror_mode": {
    "name": "ipython",
    "version": 3
   },
   "file_extension": ".py",
   "mimetype": "text/x-python",
   "name": "python",
   "nbconvert_exporter": "python",
   "pygments_lexer": "ipython3",
   "version": "3.10.13"
  },
  "papermill": {
   "default_parameters": {},
   "duration": 210.54155,
   "end_time": "2024-07-20T07:48:21.731273",
   "environment_variables": {},
   "exception": null,
   "input_path": "__notebook__.ipynb",
   "output_path": "__notebook__.ipynb",
   "parameters": {},
   "start_time": "2024-07-20T07:44:51.189723",
   "version": "2.5.0"
  }
 },
 "nbformat": 4,
 "nbformat_minor": 5
}
